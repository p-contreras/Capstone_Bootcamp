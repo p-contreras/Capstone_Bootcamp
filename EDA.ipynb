{
 "cells": [
  {
   "cell_type": "markdown",
   "id": "naughty-puppy",
   "metadata": {},
   "source": [
    "# Predicting a Film's IMDb Rating via Regression and Deep Learning"
   ]
  },
  {
   "cell_type": "markdown",
   "id": "perfect-adoption",
   "metadata": {},
   "source": [
    "![classiques](images/classics.jpg)"
   ]
  },
  {
   "cell_type": "markdown",
   "id": "invalid-deviation",
   "metadata": {},
   "source": [
    "## Author: [Patricio Contreras](https://www.linkedin.com/in/pcontreras97/)\n",
    "\n",
    "## Overview\n",
    "\n",
    "This project is concerned with predicting a film's IMDb rating (0-10) given a select number of features.  We'll first read in the movie dataset and perform some exploratory data analysis (EDA).  After we have a solid understanding of the data, we'll clean it up and prepare it for the modelling stage.  Two models will be created for this project: a multiple linear regression model and a neural network.  The goal is to evaluate the performance of each and see which one ultimately predicts IMDb rating the best!\n",
    "\n",
    "## 1. Business Understanding\n",
    "\n",
    "Producing a film is by no means an easy endeavour.  Everyone in charged of producing a new film must take into account many different variables (e.g., genre, time of year, certification) in order to minimise the risk of making a dreaded \"razzie\".  Besides revenue and profit made, one metric used by many to evaluate the success of a film is the IMDb rating.\n",
    "\n",
    "The goal of this project is to take into account several movie features (release date, language, etc.) and predict what the eventual IMDb rating will be.  By the end of this project, the model chosen should help movie producers make informed, data-driven decisions to maximise success.\n",
    "\n",
    "## 2. Data Understanding\n",
    "\n",
    "Now that we've defined the goal and purpose of this project, let's dive into exploring the data.  This step is responsible with gaining a good understanding of the data we'll be using and identifying issues to clean up later.  By the end of this section, we should have a good idea of what fixes we need to make to supply clean and relevant data to our models."
   ]
  },
  {
   "cell_type": "code",
   "execution_count": 1,
   "id": "specific-target",
   "metadata": {},
   "outputs": [],
   "source": [
    "# import necessary Python libraries\n",
    "import pandas as pd\n",
    "import numpy as np\n",
    "import matplotlib.pyplot as plt\n",
    "%matplotlib inline\n",
    "import seaborn as sns\n",
    "import warnings\n",
    "warnings.filterwarnings(\"ignore\")"
   ]
  },
  {
   "cell_type": "markdown",
   "id": "promotional-antibody",
   "metadata": {},
   "source": [
    "The data used for this project was taken from Kaggle's [The Movies Dataset](https://www.kaggle.com/rounakbanik/the-movies-dataset) page.  It is located in the [data](data) folder as \"archive\":"
   ]
  },
  {
   "cell_type": "code",
   "execution_count": 2,
   "id": "engaging-throat",
   "metadata": {},
   "outputs": [
    {
     "name": "stdout",
     "output_type": "stream",
     "text": [
      "Number of rows: 45466\n",
      "Number of columns: 24\n"
     ]
    },
    {
     "data": {
      "text/html": [
       "<div>\n",
       "<style scoped>\n",
       "    .dataframe tbody tr th:only-of-type {\n",
       "        vertical-align: middle;\n",
       "    }\n",
       "\n",
       "    .dataframe tbody tr th {\n",
       "        vertical-align: top;\n",
       "    }\n",
       "\n",
       "    .dataframe thead th {\n",
       "        text-align: right;\n",
       "    }\n",
       "</style>\n",
       "<table border=\"1\" class=\"dataframe\">\n",
       "  <thead>\n",
       "    <tr style=\"text-align: right;\">\n",
       "      <th></th>\n",
       "      <th>adult</th>\n",
       "      <th>belongs_to_collection</th>\n",
       "      <th>budget</th>\n",
       "      <th>genres</th>\n",
       "      <th>homepage</th>\n",
       "      <th>id</th>\n",
       "      <th>imdb_id</th>\n",
       "      <th>original_language</th>\n",
       "      <th>original_title</th>\n",
       "      <th>overview</th>\n",
       "      <th>...</th>\n",
       "      <th>release_date</th>\n",
       "      <th>revenue</th>\n",
       "      <th>runtime</th>\n",
       "      <th>spoken_languages</th>\n",
       "      <th>status</th>\n",
       "      <th>tagline</th>\n",
       "      <th>title</th>\n",
       "      <th>video</th>\n",
       "      <th>vote_average</th>\n",
       "      <th>vote_count</th>\n",
       "    </tr>\n",
       "  </thead>\n",
       "  <tbody>\n",
       "    <tr>\n",
       "      <th>0</th>\n",
       "      <td>False</td>\n",
       "      <td>{'id': 10194, 'name': 'Toy Story Collection', ...</td>\n",
       "      <td>30000000</td>\n",
       "      <td>[{'id': 16, 'name': 'Animation'}, {'id': 35, '...</td>\n",
       "      <td>http://toystory.disney.com/toy-story</td>\n",
       "      <td>862</td>\n",
       "      <td>tt0114709</td>\n",
       "      <td>en</td>\n",
       "      <td>Toy Story</td>\n",
       "      <td>Led by Woody, Andy's toys live happily in his ...</td>\n",
       "      <td>...</td>\n",
       "      <td>1995-10-30</td>\n",
       "      <td>373554033.0</td>\n",
       "      <td>81.0</td>\n",
       "      <td>[{'iso_639_1': 'en', 'name': 'English'}]</td>\n",
       "      <td>Released</td>\n",
       "      <td>NaN</td>\n",
       "      <td>Toy Story</td>\n",
       "      <td>False</td>\n",
       "      <td>7.7</td>\n",
       "      <td>5415.0</td>\n",
       "    </tr>\n",
       "    <tr>\n",
       "      <th>1</th>\n",
       "      <td>False</td>\n",
       "      <td>NaN</td>\n",
       "      <td>65000000</td>\n",
       "      <td>[{'id': 12, 'name': 'Adventure'}, {'id': 14, '...</td>\n",
       "      <td>NaN</td>\n",
       "      <td>8844</td>\n",
       "      <td>tt0113497</td>\n",
       "      <td>en</td>\n",
       "      <td>Jumanji</td>\n",
       "      <td>When siblings Judy and Peter discover an encha...</td>\n",
       "      <td>...</td>\n",
       "      <td>1995-12-15</td>\n",
       "      <td>262797249.0</td>\n",
       "      <td>104.0</td>\n",
       "      <td>[{'iso_639_1': 'en', 'name': 'English'}, {'iso...</td>\n",
       "      <td>Released</td>\n",
       "      <td>Roll the dice and unleash the excitement!</td>\n",
       "      <td>Jumanji</td>\n",
       "      <td>False</td>\n",
       "      <td>6.9</td>\n",
       "      <td>2413.0</td>\n",
       "    </tr>\n",
       "    <tr>\n",
       "      <th>2</th>\n",
       "      <td>False</td>\n",
       "      <td>{'id': 119050, 'name': 'Grumpy Old Men Collect...</td>\n",
       "      <td>0</td>\n",
       "      <td>[{'id': 10749, 'name': 'Romance'}, {'id': 35, ...</td>\n",
       "      <td>NaN</td>\n",
       "      <td>15602</td>\n",
       "      <td>tt0113228</td>\n",
       "      <td>en</td>\n",
       "      <td>Grumpier Old Men</td>\n",
       "      <td>A family wedding reignites the ancient feud be...</td>\n",
       "      <td>...</td>\n",
       "      <td>1995-12-22</td>\n",
       "      <td>0.0</td>\n",
       "      <td>101.0</td>\n",
       "      <td>[{'iso_639_1': 'en', 'name': 'English'}]</td>\n",
       "      <td>Released</td>\n",
       "      <td>Still Yelling. Still Fighting. Still Ready for...</td>\n",
       "      <td>Grumpier Old Men</td>\n",
       "      <td>False</td>\n",
       "      <td>6.5</td>\n",
       "      <td>92.0</td>\n",
       "    </tr>\n",
       "    <tr>\n",
       "      <th>3</th>\n",
       "      <td>False</td>\n",
       "      <td>NaN</td>\n",
       "      <td>16000000</td>\n",
       "      <td>[{'id': 35, 'name': 'Comedy'}, {'id': 18, 'nam...</td>\n",
       "      <td>NaN</td>\n",
       "      <td>31357</td>\n",
       "      <td>tt0114885</td>\n",
       "      <td>en</td>\n",
       "      <td>Waiting to Exhale</td>\n",
       "      <td>Cheated on, mistreated and stepped on, the wom...</td>\n",
       "      <td>...</td>\n",
       "      <td>1995-12-22</td>\n",
       "      <td>81452156.0</td>\n",
       "      <td>127.0</td>\n",
       "      <td>[{'iso_639_1': 'en', 'name': 'English'}]</td>\n",
       "      <td>Released</td>\n",
       "      <td>Friends are the people who let you be yourself...</td>\n",
       "      <td>Waiting to Exhale</td>\n",
       "      <td>False</td>\n",
       "      <td>6.1</td>\n",
       "      <td>34.0</td>\n",
       "    </tr>\n",
       "    <tr>\n",
       "      <th>4</th>\n",
       "      <td>False</td>\n",
       "      <td>{'id': 96871, 'name': 'Father of the Bride Col...</td>\n",
       "      <td>0</td>\n",
       "      <td>[{'id': 35, 'name': 'Comedy'}]</td>\n",
       "      <td>NaN</td>\n",
       "      <td>11862</td>\n",
       "      <td>tt0113041</td>\n",
       "      <td>en</td>\n",
       "      <td>Father of the Bride Part II</td>\n",
       "      <td>Just when George Banks has recovered from his ...</td>\n",
       "      <td>...</td>\n",
       "      <td>1995-02-10</td>\n",
       "      <td>76578911.0</td>\n",
       "      <td>106.0</td>\n",
       "      <td>[{'iso_639_1': 'en', 'name': 'English'}]</td>\n",
       "      <td>Released</td>\n",
       "      <td>Just When His World Is Back To Normal... He's ...</td>\n",
       "      <td>Father of the Bride Part II</td>\n",
       "      <td>False</td>\n",
       "      <td>5.7</td>\n",
       "      <td>173.0</td>\n",
       "    </tr>\n",
       "  </tbody>\n",
       "</table>\n",
       "<p>5 rows × 24 columns</p>\n",
       "</div>"
      ],
      "text/plain": [
       "   adult                              belongs_to_collection    budget  \\\n",
       "0  False  {'id': 10194, 'name': 'Toy Story Collection', ...  30000000   \n",
       "1  False                                                NaN  65000000   \n",
       "2  False  {'id': 119050, 'name': 'Grumpy Old Men Collect...         0   \n",
       "3  False                                                NaN  16000000   \n",
       "4  False  {'id': 96871, 'name': 'Father of the Bride Col...         0   \n",
       "\n",
       "                                              genres  \\\n",
       "0  [{'id': 16, 'name': 'Animation'}, {'id': 35, '...   \n",
       "1  [{'id': 12, 'name': 'Adventure'}, {'id': 14, '...   \n",
       "2  [{'id': 10749, 'name': 'Romance'}, {'id': 35, ...   \n",
       "3  [{'id': 35, 'name': 'Comedy'}, {'id': 18, 'nam...   \n",
       "4                     [{'id': 35, 'name': 'Comedy'}]   \n",
       "\n",
       "                               homepage     id    imdb_id original_language  \\\n",
       "0  http://toystory.disney.com/toy-story    862  tt0114709                en   \n",
       "1                                   NaN   8844  tt0113497                en   \n",
       "2                                   NaN  15602  tt0113228                en   \n",
       "3                                   NaN  31357  tt0114885                en   \n",
       "4                                   NaN  11862  tt0113041                en   \n",
       "\n",
       "                original_title  \\\n",
       "0                    Toy Story   \n",
       "1                      Jumanji   \n",
       "2             Grumpier Old Men   \n",
       "3            Waiting to Exhale   \n",
       "4  Father of the Bride Part II   \n",
       "\n",
       "                                            overview  ... release_date  \\\n",
       "0  Led by Woody, Andy's toys live happily in his ...  ...   1995-10-30   \n",
       "1  When siblings Judy and Peter discover an encha...  ...   1995-12-15   \n",
       "2  A family wedding reignites the ancient feud be...  ...   1995-12-22   \n",
       "3  Cheated on, mistreated and stepped on, the wom...  ...   1995-12-22   \n",
       "4  Just when George Banks has recovered from his ...  ...   1995-02-10   \n",
       "\n",
       "       revenue runtime                                   spoken_languages  \\\n",
       "0  373554033.0    81.0           [{'iso_639_1': 'en', 'name': 'English'}]   \n",
       "1  262797249.0   104.0  [{'iso_639_1': 'en', 'name': 'English'}, {'iso...   \n",
       "2          0.0   101.0           [{'iso_639_1': 'en', 'name': 'English'}]   \n",
       "3   81452156.0   127.0           [{'iso_639_1': 'en', 'name': 'English'}]   \n",
       "4   76578911.0   106.0           [{'iso_639_1': 'en', 'name': 'English'}]   \n",
       "\n",
       "     status                                            tagline  \\\n",
       "0  Released                                                NaN   \n",
       "1  Released          Roll the dice and unleash the excitement!   \n",
       "2  Released  Still Yelling. Still Fighting. Still Ready for...   \n",
       "3  Released  Friends are the people who let you be yourself...   \n",
       "4  Released  Just When His World Is Back To Normal... He's ...   \n",
       "\n",
       "                         title  video vote_average vote_count  \n",
       "0                    Toy Story  False          7.7     5415.0  \n",
       "1                      Jumanji  False          6.9     2413.0  \n",
       "2             Grumpier Old Men  False          6.5       92.0  \n",
       "3            Waiting to Exhale  False          6.1       34.0  \n",
       "4  Father of the Bride Part II  False          5.7      173.0  \n",
       "\n",
       "[5 rows x 24 columns]"
      ]
     },
     "execution_count": 2,
     "metadata": {},
     "output_type": "execute_result"
    }
   ],
   "source": [
    "# reading in the main movie csv\n",
    "df = pd.read_csv(\"data/archive/movies_metadata.csv\")\n",
    "\n",
    "# dimensions of df\n",
    "print(\"Number of rows:\", df.shape[0])\n",
    "print(\"Number of columns:\", df.shape[1])\n",
    "\n",
    "# preview of df\n",
    "df.head()"
   ]
  },
  {
   "cell_type": "markdown",
   "id": "tracked-proposition",
   "metadata": {},
   "source": [
    "As seen by the output above, each row represents one movie and the columns represent movie features.  There are 45,466 rows in this DataFrame and 24 columns that describe each movie.  There are features that are commonly used to describe a movie such as `genres`, `release_date`, and `revenue`, but there are also less common features such as `belongs_to_collection` and `homepage` that also describe the film.\n",
    "\n",
    "In order to understand our features better, a data dictionary is shown below:\n",
    "\n",
    "1. **adult** - is this an adult film?\n",
    "2. **belongs_to_collection** - is this film part of a franchise?\n",
    "3. **budget** - the budget to make the film\n",
    "4. **genres** - the most popular genres associated with this film\n",
    "5. **homepage** - website for the film\n",
    "6. **id** - The Movie Database (TMDb) ID for this film\n",
    "7. **imdb_id** - the IMDb ID for this film\n",
    "8. **original_language** - the language spoken in the first version of this film\n",
    "9. **original_title** - the title used for this film in the first version\n",
    "10. **overview** - the film synopsis\n",
    "11. **popularity** - TMDb popularity score for the film.  To read more about how this was calculated, click [here](https://developers.themoviedb.org/3/getting-started/popularity)\n",
    "12. **poster_path** - path to a jpg of the film poster\n",
    "13. **production_companies** - the production company for the film\n",
    "14. **production_countries** - where was the film produced?\n",
    "15. **release_date** - the date the movie was released\n",
    "16. **revenue** - box office revenue for the film\n",
    "17. **runtime** - film runtime in minutes\n",
    "18. **spoken_languages** - languages spoken in the film\n",
    "19. **status** - what is the status of the film?\n",
    "20. **tagline** - famous tagline associated with the film\n",
    "21. **title** - most popular title for the film\n",
    "22. **video** - unknown\n",
    "23. **vote_average** - IMDb rating for the film.  To learn more about how this was computed, click [here](https://help.imdb.com/article/imdb/track-movies-tv/weighted-average-ratings/GWT2DSBYVT2F25SK#)\n",
    "24. **vote_count** - how many people rated this film on IMDb"
   ]
  },
  {
   "cell_type": "markdown",
   "id": "daily-colorado",
   "metadata": {},
   "source": [
    "### Check Column Data Types\n",
    "\n",
    "Let's keep on exploring our DataFrame by outputting the data type stored in each column:"
   ]
  },
  {
   "cell_type": "code",
   "execution_count": 3,
   "id": "amazing-fifth",
   "metadata": {},
   "outputs": [
    {
     "data": {
      "text/plain": [
       "adult                     object\n",
       "belongs_to_collection     object\n",
       "budget                    object\n",
       "genres                    object\n",
       "homepage                  object\n",
       "id                        object\n",
       "imdb_id                   object\n",
       "original_language         object\n",
       "original_title            object\n",
       "overview                  object\n",
       "popularity                object\n",
       "poster_path               object\n",
       "production_companies      object\n",
       "production_countries      object\n",
       "release_date              object\n",
       "revenue                  float64\n",
       "runtime                  float64\n",
       "spoken_languages          object\n",
       "status                    object\n",
       "tagline                   object\n",
       "title                     object\n",
       "video                     object\n",
       "vote_average             float64\n",
       "vote_count               float64\n",
       "dtype: object"
      ]
     },
     "execution_count": 3,
     "metadata": {},
     "output_type": "execute_result"
    }
   ],
   "source": [
    "# data type of each column\n",
    "df.dtypes"
   ]
  },
  {
   "cell_type": "markdown",
   "id": "primary-jungle",
   "metadata": {},
   "source": [
    "The overwhelming majority of columns in this DataFrame are of type `object` and only 4 are numeric.  While some of the data types _do_ make sense (e.g., `title` - object, `overview` - object, `vote_average` - float64), others will probably have to be changed to use in our models (`budget` to numeric type).\n",
    "\n",
    "### Check for Duplicates\n",
    "\n",
    "Checking for duplicates is a crucial step while investigating a DataFrame.  Having duplicates is generally problematic as we have redundant data and this could potentially affect our results later on.  Given that the `id` and `imdb_id` columns *should* be unique identifiers per film, we'll use these features to check if there are duplicates in our DataFrame `df`:"
   ]
  },
  {
   "cell_type": "code",
   "execution_count": 4,
   "id": "anticipated-ecuador",
   "metadata": {},
   "outputs": [
    {
     "data": {
      "text/plain": [
       "30"
      ]
     },
     "execution_count": 4,
     "metadata": {},
     "output_type": "execute_result"
    }
   ],
   "source": [
    "# how many duplicates are there?\n",
    "df.duplicated(subset = [\"id\", \"imdb_id\"]).sum()"
   ]
  },
  {
   "cell_type": "markdown",
   "id": "fifth-divide",
   "metadata": {},
   "source": [
    "It seems like there are 30 duplicates in `df`.  Since this is something that will most likely create issues later, let's get rid of them now.  (We'll also display the dimensions of `df` after removing the duplicates):"
   ]
  },
  {
   "cell_type": "code",
   "execution_count": 5,
   "id": "reverse-biology",
   "metadata": {},
   "outputs": [
    {
     "name": "stdout",
     "output_type": "stream",
     "text": [
      "Number of rows: 45436\n",
      "Number of columns: 24\n"
     ]
    }
   ],
   "source": [
    "# removing duplicates from df\n",
    "df = df[~df.duplicated(subset = [\"id\", \"imdb_id\"])]\n",
    "\n",
    "# dimensions of df after\n",
    "print(\"Number of rows:\", df.shape[0])\n",
    "print(\"Number of columns:\", df.shape[1])"
   ]
  },
  {
   "cell_type": "markdown",
   "id": "reported-holly",
   "metadata": {},
   "source": [
    "As expected, we now have 30 less rows than before.  Great, we should be clear of this issue.\n",
    "\n",
    "### Check Missing Values\n",
    "\n",
    "Another common step when exploring a DataFrame is to investigate how many missing values are present.  This will affect our results further down the line and should be dealt with in the early stages:"
   ]
  },
  {
   "cell_type": "code",
   "execution_count": 6,
   "id": "equal-quarter",
   "metadata": {},
   "outputs": [
    {
     "data": {
      "text/plain": [
       "adult                     0.00\n",
       "belongs_to_collection    90.12\n",
       "budget                    0.00\n",
       "genres                    0.00\n",
       "homepage                 82.88\n",
       "id                        0.00\n",
       "imdb_id                   0.04\n",
       "original_language         0.02\n",
       "original_title            0.00\n",
       "overview                  2.10\n",
       "popularity                0.01\n",
       "poster_path               0.85\n",
       "production_companies      0.01\n",
       "production_countries      0.01\n",
       "release_date              0.19\n",
       "revenue                   0.01\n",
       "runtime                   0.58\n",
       "spoken_languages          0.01\n",
       "status                    0.19\n",
       "tagline                  55.10\n",
       "title                     0.01\n",
       "video                     0.01\n",
       "vote_average              0.01\n",
       "vote_count                0.01\n",
       "dtype: float64"
      ]
     },
     "execution_count": 6,
     "metadata": {},
     "output_type": "execute_result"
    }
   ],
   "source": [
    "# percent of missing values per column\n",
    "round((df.isna().sum()/len(df))*100, 2)"
   ]
  },
  {
   "cell_type": "markdown",
   "id": "standing-ethernet",
   "metadata": {},
   "source": [
    "Three columns stand out here: `belongs_to_collection`, `homepage`, and `tagline`.  These columns have over half of their values missing!  While some columns won't be very useful for our modelling stage (e.g., `video`, `poster_path`, `homepage`, etc.), other columns with missing values will have to be dealt with later on.\n",
    "\n",
    "## 3. Exploratory Data Analysis\n",
    "\n",
    "Now that we've dealt with duplicates and know how many missing values exist per column, let's keep on exploring our data through exploratory data analysis!  This can be done through several different methods but I decided to split this section into two: numeric features and categorical features.\n",
    "\n",
    "### Visualising Numeric Data\n",
    "\n",
    "Histograms are a great way to inspect the frequency distribution of a variable and get some insight on important descriptive statistics such as mean, median, and mode.  The shape of the distribution (modality, skewness/symmetry) is also another important takeaway from these plots.\n",
    "\n",
    "Alongisde the histograms, I'll also be plotting boxplots to more clearly visualise the outliers in these variables.  While a histogram does a great job at showing the frequency distribution, it can sometimes fail at showing outliers due to very small frequencies:"
   ]
  },
  {
   "cell_type": "code",
   "execution_count": 7,
   "id": "based-baseball",
   "metadata": {},
   "outputs": [
    {
     "data": {
      "image/png": "[encoded data removed]",
      "text/plain": [
       "<Figure size 1080x1800 with 8 Axes>"
      ]
     },
     "metadata": {
      "needs_background": "light"
     },
     "output_type": "display_data"
    }
   ],
   "source": [
    "from Code import eda\n",
    "fig, axes = plt.subplots(4, 2, figsize = (15,25))\n",
    "eda.plot_numeric(df, fig, axes)"
   ]
  },
  {
   "cell_type": "markdown",
   "id": "recovered-article",
   "metadata": {},
   "source": [
    "The main takeaways from these plots are as follows:\n",
    "\n",
    "* The histogram for `revenue` suggests that most films in `df` don't make a revenue over 500 million (given the positive skewness of the distribution).  However, the boxplot raises a concern as it seems every point above 0.0 is considered an \"outlier\".  This is worrisome since this could mean that several films have a value of 0 for `revenue`!\n",
    "\n",
    "* `runtime` appears to have a positively skewed distribution, however, there is a concentration of data around the 100 minute mark.  The histogram shows that most films have a runtime of less than 200 minutes (3.33 hours) whereas the boxplot reveals that some films in the dataset are as long as 20 hours!\n",
    "\n",
    "* `vote_average` seems to be the feature with the least amount of skewness.  The frequency distribution appears to be unimodal with the majority of films in the dataset having an IMDb rating of around 6.2.  Around 3,000 films have a rating close to 0, however, the boxplot labels these as outliers.\n",
    "\n",
    "* Unfortunately the frequency distribution for `vote_count` is barely visible due to the large frequency imbalance present.  As the histogram shows, most films have a very small `vote_count` and all other counts were labelled as \"outliers\" according to the boxplot - very strong skewness!"
   ]
  },
  {
   "cell_type": "markdown",
   "id": "textile-charge",
   "metadata": {},
   "source": [
    "### Exploring our Categorical Data\n",
    "\n",
    "20 out of the 24 features present in our DataFrame are of type `object`.  This means that unfortunately we cannot display distributions nor boxplots due to their non-numeric nature.  In this section we'll output the top 5 most and least common values per feature to get an idea of what we're working with:"
   ]
  },
  {
   "cell_type": "code",
   "execution_count": 8,
   "id": "reliable-immigration",
   "metadata": {},
   "outputs": [
    {
     "name": "stdout",
     "output_type": "stream",
     "text": [
      "FEATURE: adult\n",
      "False                                                                                                                             0.999736\n",
      "True                                                                                                                              0.000198\n",
      " Avalanche Sharks tells the story of a bikini contest that turns into a horrifying affair when it is hit by a shark avalanche.    0.000022\n",
      " Rune Balot goes to a casino connected to the October corporation to try to wrap up her case once and for all.                    0.000022\n",
      " - Written by Ørnås                                                                                                               0.000022\n",
      "Name: adult, dtype: float64\n",
      "------------------------\n",
      "FEATURE: belongs_to_collection\n",
      "{'id': 415931, 'name': 'The Bowery Boys', 'poster_path': '/q6sA4bzMT9cK7EEmXYwt7PNrL5h.jpg', 'backdrop_path': '/foe3kuiJmg5AklhtD3skWbaTMf2.jpg'}                 0.006457\n",
      "{'id': 421566, 'name': 'Totò Collection', 'poster_path': '/4ayJsjC3djGwU9eCWUokdBWvdLC.jpg', 'backdrop_path': '/jaUuprubvAxXLAY5hUfrNjxccUh.jpg'}                 0.006012\n",
      "{'id': 645, 'name': 'James Bond Collection', 'poster_path': '/HORpg5CSkmeQlAolx3bKMrKgfi.jpg', 'backdrop_path': '/6VcVl48kNKvdXOZfJPdarlUGOsk.jpg'}               0.005789\n",
      "{'id': 96887, 'name': 'Zatôichi: The Blind Swordsman', 'poster_path': '/8Q31DAtmFJjhFTwQGXghBUCgWK2.jpg', 'backdrop_path': '/bY8gLImMR5Pr9PaG3ZpobfaAQ8N.jpg'}    0.005789\n",
      "{'id': 37261, 'name': 'The Carry On Collection', 'poster_path': '/2P0HNrYgKDvirV8RCdT1rBSJdbJ.jpg', 'backdrop_path': '/38tF1LJN7ULeZAuAfP7beaPMfcl.jpg'}          0.005567\n",
      "Name: belongs_to_collection, dtype: float64\n",
      "------------------------\n",
      "FEATURE: budget\n",
      "0           0.804494\n",
      "5000000     0.006295\n",
      "10000000    0.005678\n",
      "20000000    0.005348\n",
      "2000000     0.005326\n",
      "Name: budget, dtype: float64\n",
      "------------------------\n",
      "FEATURE: genres\n",
      "[{'id': 18, 'name': 'Drama'}]                                      0.109957\n",
      "[{'id': 35, 'name': 'Comedy'}]                                     0.079673\n",
      "[{'id': 99, 'name': 'Documentary'}]                                0.059886\n",
      "[]                                                                 0.053746\n",
      "[{'id': 18, 'name': 'Drama'}, {'id': 10749, 'name': 'Romance'}]    0.028612\n",
      "Name: genres, dtype: float64\n",
      "------------------------\n",
      "FEATURE: homepage\n",
      "http://www.georgecarlin.com                  0.001543\n",
      "http://www.wernerherzog.com/films-by.html    0.000900\n",
      "http://breakblade.jp/                        0.000772\n",
      "http://www.thehungergames.movie/             0.000514\n",
      "http://www.transformersmovie.com/            0.000514\n",
      "Name: homepage, dtype: float64\n",
      "------------------------\n",
      "FEATURE: id\n",
      "34667     0.000022\n",
      "146       0.000022\n",
      "53144     0.000022\n",
      "114405    0.000022\n",
      "47616     0.000022\n",
      "Name: id, dtype: float64\n",
      "------------------------\n",
      "FEATURE: imdb_id\n",
      "0            0.000066\n",
      "tt1667485    0.000022\n",
      "tt0348214    0.000022\n",
      "tt0029682    0.000022\n",
      "tt0097235    0.000022\n",
      "Name: imdb_id, dtype: float64\n",
      "------------------------\n",
      "FEATURE: original_language\n",
      "en    0.709983\n",
      "fr    0.053627\n",
      "it    0.033660\n",
      "ja    0.029653\n",
      "de    0.023753\n",
      "Name: original_language, dtype: float64\n",
      "------------------------\n",
      "FEATURE: original_title\n",
      "Alice in Wonderland    0.000176\n",
      "Hamlet                 0.000176\n",
      "A Christmas Carol      0.000154\n",
      "Cinderella             0.000154\n",
      "Les Misérables         0.000154\n",
      "Name: original_title, dtype: float64\n",
      "------------------------\n",
      "FEATURE: overview\n",
      "No overview found.                                            0.002990\n",
      "No Overview                                                   0.000157\n",
      "                                                              0.000112\n",
      "A few funny little novels about different aspects of life.    0.000067\n",
      "Released                                                      0.000067\n",
      "Name: overview, dtype: float64\n",
      "------------------------\n",
      "FEATURE: popularity\n",
      "0.0         0.000748\n",
      "0.0         0.000704\n",
      "1e-06       0.000660\n",
      "1e-06       0.000572\n",
      "0.000844    0.000572\n",
      "Name: popularity, dtype: float64\n",
      "------------------------\n",
      "FEATURE: poster_path\n",
      "/5D7UBSEgdyONE6Lql6xS7s6OLcW.jpg    0.000111\n",
      "/2kslZXOaW0HmnGuVPCnQlCdXFR9.jpg    0.000089\n",
      "/qW1oQlOHizRHXZQrpkimYr0oxzn.jpg    0.000089\n",
      "/cdwVC18URfEdQjjxqJyRMoGDC0H.jpg    0.000067\n",
      "/glFXjFSIhyPIPKsg86vqxo029oM.jpg    0.000044\n",
      "Name: poster_path, dtype: float64\n",
      "------------------------\n",
      "FEATURE: production_companies\n",
      "[]                                                                 0.261220\n",
      "[{'name': 'Metro-Goldwyn-Mayer (MGM)', 'id': 8411}]                0.016332\n",
      "[{'name': 'Warner Bros.', 'id': 6194}]                             0.011886\n",
      "[{'name': 'Paramount Pictures', 'id': 4}]                          0.011093\n",
      "[{'name': 'Twentieth Century Fox Film Corporation', 'id': 306}]    0.009663\n",
      "Name: production_companies, dtype: float64\n",
      "------------------------\n",
      "FEATURE: production_countries\n",
      "[{'iso_3166_1': 'US', 'name': 'United States of America'}]    0.392688\n",
      "[]                                                            0.138204\n",
      "[{'iso_3166_1': 'GB', 'name': 'United Kingdom'}]              0.049259\n",
      "[{'iso_3166_1': 'FR', 'name': 'France'}]                      0.036383\n",
      "[{'iso_3166_1': 'JP', 'name': 'Japan'}]                       0.029802\n",
      "Name: production_countries, dtype: float64\n",
      "------------------------\n",
      "FEATURE: release_date\n",
      "2008-01-01    0.002999\n",
      "2009-01-01    0.002668\n",
      "2007-01-01    0.002580\n",
      "2005-01-01    0.002448\n",
      "2006-01-01    0.002227\n",
      "Name: release_date, dtype: float64\n",
      "------------------------\n",
      "FEATURE: spoken_languages\n",
      "[{'iso_639_1': 'en', 'name': 'English'}]     0.492648\n",
      "[]                                           0.084239\n",
      "[{'iso_639_1': 'fr', 'name': 'Français'}]    0.040744\n",
      "[{'iso_639_1': 'ja', 'name': '日本語'}]         0.028329\n",
      "[{'iso_639_1': 'it', 'name': 'Italiano'}]    0.026810\n",
      "Name: spoken_languages, dtype: float64\n",
      "------------------------\n",
      "FEATURE: status\n",
      "Released           0.991973\n",
      "Rumored            0.005050\n",
      "Post Production    0.002161\n",
      "In Production      0.000441\n",
      "Planned            0.000331\n",
      "Name: status, dtype: float64\n",
      "------------------------\n",
      "FEATURE: tagline\n",
      "Based on a true story.           0.000343\n",
      "Trust no one.                    0.000196\n",
      "-                                0.000196\n",
      "Be careful what you wish for.    0.000196\n",
      "Know Your Enemy                  0.000147\n",
      "Name: tagline, dtype: float64\n",
      "------------------------\n",
      "FEATURE: title\n",
      "Cinderella              0.000242\n",
      "Alice in Wonderland     0.000198\n",
      "Hamlet                  0.000198\n",
      "Beauty and the Beast    0.000176\n",
      "Les Misérables          0.000176\n",
      "Name: title, dtype: float64\n",
      "------------------------\n",
      "FEATURE: video\n",
      "False    0.997953\n",
      "True     0.002047\n",
      "Name: video, dtype: float64\n",
      "------------------------\n"
     ]
    }
   ],
   "source": [
    "# extracting non-numeric columns\n",
    "df_object = df.select_dtypes(include = object)\n",
    "# top 5 values per non-numeric column\n",
    "for f in df_object.columns:\n",
    "    print(\"FEATURE:\", f)\n",
    "    print(df_object[f].value_counts(normalize = True).head())\n",
    "    print(\"------------------------\")"
   ]
  },
  {
   "cell_type": "code",
   "execution_count": 9,
   "id": "logical-harris",
   "metadata": {},
   "outputs": [
    {
     "name": "stdout",
     "output_type": "stream",
     "text": [
      "FEATURE: adult\n",
      " Avalanche Sharks tells the story of a bikini contest that turns into a horrifying affair when it is hit by a shark avalanche.    0.000022\n",
      " Rune Balot goes to a casino connected to the October corporation to try to wrap up her case once and for all.                    0.000022\n",
      " - Written by Ørnås                                                                                                               0.000022\n",
      "True                                                                                                                              0.000198\n",
      "False                                                                                                                             0.999736\n",
      "Name: adult, dtype: float64\n",
      "------------------------\n",
      "FEATURE: belongs_to_collection\n",
      "{'id': 397341, 'name': \"Don't Go Breaking My Heart Collection\", 'poster_path': None, 'backdrop_path': None}                                                   0.000223\n",
      "{'id': 402074, 'name': 'Annabelle Collection', 'poster_path': '/zJfExJWUgugWziREAikeAW69poY.jpg', 'backdrop_path': '/AbTHMNaeUO8rUcRZf5J6MRfZE6v.jpg'}        0.000223\n",
      "{'id': 288882, 'name': 'Bloodfight', 'poster_path': '/evay4I1XUFSUBhoRqn5RgtInGmZ.jpg', 'backdrop_path': '/eD9lUIEOwGxS3WD5kSYtPQxO6tb.jpg'}                  0.000223\n",
      "{'id': 343944, 'name': 'Singam Collection', 'poster_path': None, 'backdrop_path': None}                                                                       0.000223\n",
      "{'id': 93788, 'name': 'Prep & Landing Collection', 'poster_path': '/zRTaRvG5JZW2ysuGxYRH37WSLHK.jpg', 'backdrop_path': '/kmsH4aq0lwgryQBoCfXZzyp6z4O.jpg'}    0.000223\n",
      "Name: belongs_to_collection, dtype: float64\n",
      "------------------------\n",
      "FEATURE: budget\n",
      "6105121     0.000022\n",
      "42          0.000022\n",
      "3950000     0.000022\n",
      "2540800     0.000022\n",
      "26350000    0.000022\n",
      "Name: budget, dtype: float64\n",
      "------------------------\n",
      "FEATURE: genres\n",
      "[{'id': 80, 'name': 'Crime'}, {'id': 18, 'name': 'Drama'}, {'id': 10751, 'name': 'Family'}, {'id': 9648, 'name': 'Mystery'}, {'id': 53, 'name': 'Thriller'}]    0.000022\n",
      "[{'id': 28, 'name': 'Action'}, {'id': 12, 'name': 'Adventure'}, {'id': 80, 'name': 'Crime'}, {'id': 18, 'name': 'Drama'}, {'id': 10749, 'name': 'Romance'}]     0.000022\n",
      "[{'id': 10749, 'name': 'Romance'}, {'id': 10752, 'name': 'War'}, {'id': 35, 'name': 'Comedy'}, {'id': 18, 'name': 'Drama'}]                                     0.000022\n",
      "[{'id': 10402, 'name': 'Music'}, {'id': 16, 'name': 'Animation'}, {'id': 35, 'name': 'Comedy'}]                                                                 0.000022\n",
      "[{'id': 28, 'name': 'Action'}, {'id': 10749, 'name': 'Romance'}, {'id': 18, 'name': 'Drama'}]                                                                   0.000022\n",
      "Name: genres, dtype: float64\n",
      "------------------------\n",
      "FEATURE: homepage\n",
      "http://www.stevejobsthefilm.com                      0.000129\n",
      "http://www.fullmetalalchemist.com/movie/index.htm    0.000129\n",
      "http://www.wondercatfilm.com/                        0.000129\n",
      "http://www.berlin-calling.de/                        0.000129\n",
      "https://www.facebook.com/men2kiss                    0.000129\n",
      "Name: homepage, dtype: float64\n",
      "------------------------\n",
      "FEATURE: id\n",
      "34667     0.000022\n",
      "53144     0.000022\n",
      "114405    0.000022\n",
      "47616     0.000022\n",
      "72545     0.000022\n",
      "Name: id, dtype: float64\n",
      "------------------------\n",
      "FEATURE: imdb_id\n",
      "tt0839739    0.000022\n",
      "tt0348214    0.000022\n",
      "tt0029682    0.000022\n",
      "tt0097235    0.000022\n",
      "tt0105622    0.000022\n",
      "Name: imdb_id, dtype: float64\n",
      "------------------------\n",
      "FEATURE: original_language\n",
      "tg    0.000022\n",
      "lb    0.000022\n",
      "la    0.000022\n",
      "zu    0.000022\n",
      "si    0.000022\n",
      "Name: original_language, dtype: float64\n",
      "------------------------\n",
      "FEATURE: original_title\n",
      "Ninja Academy        0.000022\n",
      "Creation             0.000022\n",
      "The Phantom Fiend    0.000022\n",
      "Straight A's         0.000022\n",
      "Den eneste ene       0.000022\n",
      "Name: original_title, dtype: float64\n",
      "------------------------\n",
      "FEATURE: overview\n",
      "In pre-Revolutionary France, a young aristocratic woman left penniless by the political unrest in the country, must avenge her family's fall from grace by scheming to steal a priceless necklace.                                                                                                                                                                                                                                                                                                                                                                                0.000022\n",
      "Josh is a high school guy who lives with adoptive parents and is involved in little crimes with his friends (including young lesbian Bella). Suddenly his elder brother Walter comes out of the blue (he left home 10 years ago when he was 18 and was never heard during these years). After that Walter starts to involve Josh in various new criminal activities, including robbery.                                                                                                                                                                                           0.000022\n",
      "Like every day, Marcelo gathers her children on the floor of his ex-wife. As each day play \"to see who gets there first\" them down the stairs, him in the elevator, a diversion that your ex-partner does not like. But when one day Marcelo plays the downstairs children are not. They are not anywhere. The fear begins to emerge when a phone call will catapult the horror: a kidnapper puts a price for the release of their children                                                                                                                                       0.000022\n",
      "A depressed man moves back in with his parents following a recent heartbreak.                                                                                                                                                                                                                                                                                                                                                                                                                                                                                                     0.000022\n",
      "From Oscar and Emmy award winning filmmakers, Red Army highlights the Soviet Union's legendary and enigmatic hockey training culture and world-dominating team through the eyes of the team's Captain Slava Fetisov, following his shift from hockey star and celebrated national hero to political enemy. The film turns a unique lens on the social and cultural transformation of the Soviet Union leading up to the fall of Communism, mirroring the rise and fall of the Red Army team.  A film by Gabe Polsky and Executive Producers Werner Herzog and Jerry Weintraub.    0.000022\n",
      "Name: overview, dtype: float64\n",
      "------------------------\n",
      "FEATURE: popularity\n",
      "0.426952     0.000022\n",
      "0.552064     0.000022\n",
      "3.420817     0.000022\n",
      "10.920124    0.000022\n",
      "7.020628     0.000022\n",
      "Name: popularity, dtype: float64\n",
      "------------------------\n",
      "FEATURE: poster_path\n",
      "/dvDGf4jv7IR0XKsa1lKu9HHTPE2.jpg    0.000022\n",
      "/yHVHgyT5YfOHmDmgyL9R3Vc99pR.jpg    0.000022\n",
      "/32KtcTPJDVejSZTLydf0sTmSdZ7.jpg    0.000022\n",
      "/pHsuiCAtLxtaND89ONR4nNZ6kx7.jpg    0.000022\n",
      "/s0j5W0D0BjNKqNcENp0QXoSZFYh.jpg    0.000022\n",
      "Name: poster_path, dtype: float64\n",
      "------------------------\n",
      "FEATURE: production_companies\n",
      "[{'name': 'The Hamilton Film Group', 'id': 65602}]                                                                                           0.000022\n",
      "[{'name': 'Roast Beef Productions', 'id': 7266}, {'name': 'Worldview Entertainment', 'id': 9015}, {'name': 'Noujaim Films', 'id': 27197}]    0.000022\n",
      "[{'name': 'United States Navy', 'id': 9381}]                                                                                                 0.000022\n",
      "[{'name': 'ContentFilm', 'id': 1420}, {'name': 'Pierce/Williams Entertainment', 'id': 18621}]                                                0.000022\n",
      "[{'name': 'Paramount Pictures', 'id': 4}, {'name': 'Apatow Productions', 'id': 10105}]                                                       0.000022\n",
      "Name: production_companies, dtype: float64\n",
      "------------------------\n",
      "FEATURE: production_countries\n",
      "[{'iso_3166_1': 'AR', 'name': 'Argentina'}, {'iso_3166_1': 'FR', 'name': 'France'}, {'iso_3166_1': 'IT', 'name': 'Italy'}, {'iso_3166_1': 'ES', 'name': 'Spain'}]    0.000022\n",
      "[{'iso_3166_1': 'BE', 'name': 'Belgium'}, {'iso_3166_1': 'CD', 'name': 'Congo'}, {'iso_3166_1': 'FR', 'name': 'France'}]                                             0.000022\n",
      "[{'iso_3166_1': 'IT', 'name': 'Italy'}, {'iso_3166_1': 'RU', 'name': 'Russia'}, {'iso_3166_1': 'US', 'name': 'United States of America'}]                            0.000022\n",
      "[{'iso_3166_1': 'RS', 'name': 'Serbia'}, {'iso_3166_1': 'SI', 'name': 'Slovenia'}, {'iso_3166_1': 'KR', 'name': 'South Korea'}]                                      0.000022\n",
      "[{'iso_3166_1': 'IE', 'name': 'Ireland'}, {'iso_3166_1': 'PL', 'name': 'Poland'}]                                                                                    0.000022\n",
      "Name: production_countries, dtype: float64\n",
      "------------------------\n",
      "FEATURE: release_date\n",
      "1967-09-05    0.000022\n",
      "1967-04-25    0.000022\n",
      "1934-09-28    0.000022\n",
      "1993-02-22    0.000022\n",
      "1954-01-08    0.000022\n",
      "Name: release_date, dtype: float64\n",
      "------------------------\n",
      "FEATURE: spoken_languages\n",
      "[{'iso_639_1': 'de', 'name': 'Deutsch'}, {'iso_639_1': 'sh', 'name': ''}, {'iso_639_1': 'en', 'name': 'English'}, {'iso_639_1': 'bs', 'name': 'Bosanski'}]    0.000022\n",
      "[{'iso_639_1': 'pa', 'name': 'ਪੰਜਾਬੀ'}]                                                                                                                       0.000022\n",
      "[{'iso_639_1': 'la', 'name': 'Latin'}, {'iso_639_1': 'es', 'name': 'Español'}]                                                                                0.000022\n",
      "[{'iso_639_1': 'ce', 'name': ''}, {'iso_639_1': 'fr', 'name': 'Français'}, {'iso_639_1': 'en', 'name': 'English'}, {'iso_639_1': 'ru', 'name': 'Pусский'}]    0.000022\n",
      "[{'iso_639_1': 'et', 'name': 'Eesti'}, {'iso_639_1': 'de', 'name': 'Deutsch'}, {'iso_639_1': 'ru', 'name': 'Pусский'}]                                        0.000022\n",
      "Name: spoken_languages, dtype: float64\n",
      "------------------------\n",
      "FEATURE: status\n",
      "Canceled           0.000044\n",
      "Planned            0.000331\n",
      "In Production      0.000441\n",
      "Post Production    0.002161\n",
      "Rumored            0.005050\n",
      "Name: status, dtype: float64\n",
      "------------------------\n",
      "FEATURE: tagline\n",
      "An American Freak Illumination                                                                                   0.000049\n",
      "My Best Friend                                                                                                   0.000049\n",
      "From above the world of Cars                                                                                     0.000049\n",
      "On the Long Island Expressway there are lanes going east, lanes going west, and lanes going straight to hell.    0.000049\n",
      "Cinnamon... is bitter and sweet, just like a woman                                                               0.000049\n",
      "Name: tagline, dtype: float64\n",
      "------------------------\n",
      "FEATURE: title\n",
      "The Trip to Squash Land                    0.000022\n",
      "Due Magnum .38 per una città di carogne    0.000022\n",
      "The Great Muppet Caper                     0.000022\n",
      "The Beach Girls                            0.000022\n",
      "The Sinful Dwarf                           0.000022\n",
      "Name: title, dtype: float64\n",
      "------------------------\n",
      "FEATURE: video\n",
      "True     0.002047\n",
      "False    0.997953\n",
      "Name: video, dtype: float64\n",
      "------------------------\n"
     ]
    }
   ],
   "source": [
    "# top 5 least common values per non-numeric column\n",
    "for f in df_object.columns:\n",
    "    print(\"FEATURE:\", f)\n",
    "    print(df_object[f].value_counts(ascending = True, normalize = True).head())\n",
    "    print(\"------------------------\")"
   ]
  },
  {
   "cell_type": "markdown",
   "id": "tight-pencil",
   "metadata": {},
   "source": [
    "The output shown above reveals a lot of information from these features.  **Keeping in mind that some features have a substantial amount of missing values**, the following should be noted:\n",
    "\n",
    "* `budget` has 80% of its values set to 0!\n",
    "* Drama is the most popular stand-alone genre in `df`\n",
    "* Approximately 3 films have no associated `imdb_id`\n",
    "* Features such as `genres`, `production_companies`, and `production_countries` have `[]` as a top 5 value\n",
    "* Not all films in `df` have been released!\n",
    "\n",
    "*As I mentioned before, some of these features need to be converted to their appropriate data type for best results*\n",
    "\n",
    "---"
   ]
  },
  {
   "cell_type": "markdown",
   "id": "photographic-preview",
   "metadata": {},
   "source": [
    "### Initial Comments on the Raw Data\n",
    "\n",
    "While our initial exploration of `df` allowed us to gain a better understanding of the data, there is still much to work on.  Adjustments and cleaning steps need to be performed before advancing onto our modelling stage.  The following are issues that will be addressed in the next section:\n",
    "\n",
    "* remove unnecessary/irrelevant features from `df`\n",
    "\n",
    "* change the data type for some categorical features\n",
    "\n",
    "* ensure we're only working with movies (no TV shows, shorts, etc.)\n",
    "\n",
    "* only look at films that have been _released_\n",
    "\n",
    "* investigate `release_date`\n",
    "\n",
    "* clean `runtime`\n",
    "\n",
    "* fix missing values problem\n",
    "\n",
    "While some of these fixes are standard across all data cleaning/prep stages (e.g., handling missing values), other fixes are particular to _this_ project (e.g., only working with movies)."
   ]
  },
  {
   "cell_type": "markdown",
   "id": "working-walter",
   "metadata": {},
   "source": [
    "## 4. Data Cleaning and Preparation\n",
    "\n",
    "In this section we'll address all the points made above.  This stage of the project is crucial before advancing onto the modelling portion as it cleans and prepares the data for optimal and accurate results later on.\n",
    "\n",
    "### Getting rid of Unnecessary Features\n",
    "\n",
    "Before we clean and prepare our DataFrame, let's quickly get rid of columns that won't be necessary for our purposes.  Even though `df` came with multiple features per film, not all of them will have the same effect in predicting an IMDb rating.  For example, I doubt a film's `overview` or `poster_path` will have a large impact in our modelling steps later on.  Furthermore, there are some features that seem redundant and could raise some multicollinearity problems (e.g., `original_title` - `title`, `original_language` - `spoken_languages`):"
   ]
  },
  {
   "cell_type": "code",
   "execution_count": 10,
   "id": "smoking-capitol",
   "metadata": {},
   "outputs": [
    {
     "data": {
      "text/plain": [
       "Index(['adult', 'belongs_to_collection', 'budget', 'genres', 'homepage', 'id',\n",
       "       'imdb_id', 'original_language', 'original_title', 'overview',\n",
       "       'popularity', 'poster_path', 'production_companies',\n",
       "       'production_countries', 'release_date', 'revenue', 'runtime',\n",
       "       'spoken_languages', 'status', 'tagline', 'title', 'video',\n",
       "       'vote_average', 'vote_count'],\n",
       "      dtype='object')"
      ]
     },
     "execution_count": 10,
     "metadata": {},
     "output_type": "execute_result"
    }
   ],
   "source": [
    "# columns present in `df`\n",
    "df.columns"
   ]
  },
  {
   "cell_type": "code",
   "execution_count": 11,
   "id": "strategic-ordinance",
   "metadata": {},
   "outputs": [],
   "source": [
    "# drop unnecessary columns\n",
    "df.drop([\"homepage\", \"original_title\", \"overview\", \"poster_path\", \n",
    "         \"spoken_languages\", \"tagline\", \"video\"], axis = 1, inplace = True)"
   ]
  },
  {
   "cell_type": "markdown",
   "id": "oriental-career",
   "metadata": {},
   "source": [
    "### Change Feature Data Type + Reformat\n",
    "\n",
    "Let's ensure that the data in `df` is stored in its proper format.  This means changing the data type for some features (`budget` should be numeric) and/or reformatting certain features so working with them later on will be easier (`genres` should just be a single string instead of a complicated list with a dictionary)\n",
    "\n",
    "As a quick refresher, here are the data types for each column as it stands:"
   ]
  },
  {
   "cell_type": "code",
   "execution_count": 12,
   "id": "therapeutic-discussion",
   "metadata": {},
   "outputs": [
    {
     "data": {
      "text/plain": [
       "adult                     object\n",
       "belongs_to_collection     object\n",
       "budget                    object\n",
       "genres                    object\n",
       "id                        object\n",
       "imdb_id                   object\n",
       "original_language         object\n",
       "popularity                object\n",
       "production_companies      object\n",
       "production_countries      object\n",
       "release_date              object\n",
       "revenue                  float64\n",
       "runtime                  float64\n",
       "status                    object\n",
       "title                     object\n",
       "vote_average             float64\n",
       "vote_count               float64\n",
       "dtype: object"
      ]
     },
     "execution_count": 12,
     "metadata": {},
     "output_type": "execute_result"
    }
   ],
   "source": [
    "# feature data types\n",
    "df.dtypes"
   ]
  },
  {
   "cell_type": "markdown",
   "id": "attended-jewel",
   "metadata": {},
   "source": [
    "The following changes will be made to the DataFrame in this section:\n",
    "\n",
    "* change `adult` to be a binary feature (0 or 1)\n",
    "* change `belongs_to_collection` to a single string\n",
    "* change `budget` to numeric\n",
    "* change `genres` from dictionary to single string\n",
    "* change `id` to numeric\n",
    "* change `popularity` to a numeric format\n",
    "* change `production_companies` from dictionary to a single string\n",
    "* change `production_countries` from dictionary to a single string\n",
    "* change `release_date` to a datetime format\n",
    "* change 0s in numeric columns to `NAs` (except `adult`)"
   ]
  },
  {
   "cell_type": "code",
   "execution_count": 13,
   "id": "initial-cross",
   "metadata": {},
   "outputs": [
    {
     "data": {
      "text/plain": [
       "False                                                                                                                             45424\n",
       "True                                                                                                                                  9\n",
       " Avalanche Sharks tells the story of a bikini contest that turns into a horrifying affair when it is hit by a shark avalanche.        1\n",
       " Rune Balot goes to a casino connected to the October corporation to try to wrap up her case once and for all.                        1\n",
       " - Written by Ørnås                                                                                                                   1\n",
       "Name: adult, dtype: int64"
      ]
     },
     "execution_count": 13,
     "metadata": {},
     "output_type": "execute_result"
    }
   ],
   "source": [
    "# adult\n",
    "# check column only has \"True\" and \"False\"\n",
    "df[\"adult\"].value_counts()"
   ]
  },
  {
   "cell_type": "markdown",
   "id": "indie-coffee",
   "metadata": {},
   "source": [
    "`adult` has 3 entries that aren't `True` or `False`.  We'll get rid of them before converting this feature to a binary variable.  We'll also use `convert_stringList()` from `Code/data_cleaning.py` to convert `belongs_to_collection` from a dictionary to a string:"
   ]
  },
  {
   "cell_type": "code",
   "execution_count": 14,
   "id": "environmental-major",
   "metadata": {},
   "outputs": [],
   "source": [
    "from Code import data_cleaning as dc\n",
    "# removing non-boolean entries\n",
    "df = df[((df[\"adult\"] == \"True\") | (df[\"adult\"] == \"False\"))]\n",
    "# change `adult` to binary feature\n",
    "df[\"adult\"] = df[\"adult\"].apply(lambda x: 1 if x == \"True\" else 0)\n",
    "# rename feature\n",
    "df.rename({\"adult\": \"is_Adult\"}, axis = 1, inplace = True)\n",
    "\n",
    "# belongs_to_collection - change from dictionary to a single string\n",
    "df[\"belongs_to_collection\"] = df[\"belongs_to_collection\"].apply(dc.convert_stringList)\n",
    "\n",
    "# budget - change to numeric\n",
    "try:\n",
    "    df[\"budget\"] = df[\"budget\"].astype(float)\n",
    "except:\n",
    "    print(\"Cannot change budget to float.  Please check values!\")"
   ]
  },
  {
   "cell_type": "markdown",
   "id": "broken-arlington",
   "metadata": {},
   "source": [
    "`genres`, `production_companies`, and `production_countries` are strings of dictionaries inside of lists.  This makes the job of extracting the primary genre/company/country a bit tricky.  In order to solve this issue, we'll also use the function `convert_stringList()` from `Code/data_cleaning.py`:"
   ]
  },
  {
   "cell_type": "code",
   "execution_count": 15,
   "id": "incident-northeast",
   "metadata": {},
   "outputs": [],
   "source": [
    "# genre - extract only primary genre\n",
    "df[\"genres\"] = df[\"genres\"].apply(dc.convert_stringList)\n",
    "# rename feature\n",
    "df.rename({\"genres\": \"genre\"}, axis = 1, inplace = True)\n",
    "\n",
    "# popularity - change to float\n",
    "try:\n",
    "    df[\"popularity\"] = df[\"popularity\"].astype(float)\n",
    "except:\n",
    "    print(\"Cannot change popularity to float.  Please check values!\")"
   ]
  },
  {
   "cell_type": "code",
   "execution_count": 16,
   "id": "announced-party",
   "metadata": {},
   "outputs": [],
   "source": [
    "# id - change to numeric\n",
    "try:\n",
    "    df[\"id\"] = df[\"id\"].astype(int)\n",
    "except:\n",
    "    print(\"Cannot change id to float.  Please check values!\")"
   ]
  },
  {
   "cell_type": "code",
   "execution_count": 17,
   "id": "modified-texas",
   "metadata": {},
   "outputs": [],
   "source": [
    "# production_companies - change from dictionary to string\n",
    "df[\"production_companies\"] = df[\"production_companies\"].apply(dc.convert_stringList)\n",
    "\n",
    "# production_countries - change from dictionary to string\n",
    "df[\"production_countries\"] = df[\"production_countries\"].apply(dc.convert_stringList)\n",
    "\n",
    "# rename features\n",
    "df.rename({\"production_companies\": \"production_company\",\n",
    "          \"production_countries\": \"production_country\"}, axis = 1, inplace = True)\n",
    "\n",
    "# release_date - change to datetime\n",
    "try:\n",
    "    df[\"release_date\"] = pd.to_datetime(df[\"release_date\"])\n",
    "except:\n",
    "    print(\"Could not change to datetime\")"
   ]
  },
  {
   "cell_type": "markdown",
   "id": "concrete-nancy",
   "metadata": {},
   "source": [
    "Now that we've changed the features to their correct data type, let's check out which ones turned out to be numeric:"
   ]
  },
  {
   "cell_type": "code",
   "execution_count": 18,
   "id": "sacred-harvey",
   "metadata": {},
   "outputs": [
    {
     "data": {
      "text/plain": [
       "is_Adult                          int64\n",
       "belongs_to_collection            object\n",
       "budget                          float64\n",
       "genre                            object\n",
       "id                                int64\n",
       "imdb_id                          object\n",
       "original_language                object\n",
       "popularity                      float64\n",
       "production_company               object\n",
       "production_country               object\n",
       "release_date             datetime64[ns]\n",
       "revenue                         float64\n",
       "runtime                         float64\n",
       "status                           object\n",
       "title                            object\n",
       "vote_average                    float64\n",
       "vote_count                      float64\n",
       "dtype: object"
      ]
     },
     "execution_count": 18,
     "metadata": {},
     "output_type": "execute_result"
    }
   ],
   "source": [
    "df.dtypes"
   ]
  },
  {
   "cell_type": "markdown",
   "id": "metallic-excess",
   "metadata": {},
   "source": [
    "We'll replace the 0s in numeric columns with `NAs` (_except_ for `is_Adult`):"
   ]
  },
  {
   "cell_type": "code",
   "execution_count": 19,
   "id": "optimum-state",
   "metadata": {},
   "outputs": [],
   "source": [
    "# replace 0s with NAs\n",
    "df[df.columns[1:]] = df[df.columns[1:]].replace(0, np.nan)"
   ]
  },
  {
   "cell_type": "markdown",
   "id": "noted-machine",
   "metadata": {},
   "source": [
    "Now that we've converted most of our features to their correct format and data type, let's see how `df` looks:"
   ]
  },
  {
   "cell_type": "code",
   "execution_count": 20,
   "id": "hawaiian-neutral",
   "metadata": {},
   "outputs": [
    {
     "name": "stdout",
     "output_type": "stream",
     "text": [
      "Number of rows: 45433\n",
      "Number of columns: 17\n"
     ]
    },
    {
     "data": {
      "text/html": [
       "<div>\n",
       "<style scoped>\n",
       "    .dataframe tbody tr th:only-of-type {\n",
       "        vertical-align: middle;\n",
       "    }\n",
       "\n",
       "    .dataframe tbody tr th {\n",
       "        vertical-align: top;\n",
       "    }\n",
       "\n",
       "    .dataframe thead th {\n",
       "        text-align: right;\n",
       "    }\n",
       "</style>\n",
       "<table border=\"1\" class=\"dataframe\">\n",
       "  <thead>\n",
       "    <tr style=\"text-align: right;\">\n",
       "      <th></th>\n",
       "      <th>is_Adult</th>\n",
       "      <th>belongs_to_collection</th>\n",
       "      <th>budget</th>\n",
       "      <th>genre</th>\n",
       "      <th>id</th>\n",
       "      <th>imdb_id</th>\n",
       "      <th>original_language</th>\n",
       "      <th>popularity</th>\n",
       "      <th>production_company</th>\n",
       "      <th>production_country</th>\n",
       "      <th>release_date</th>\n",
       "      <th>revenue</th>\n",
       "      <th>runtime</th>\n",
       "      <th>status</th>\n",
       "      <th>title</th>\n",
       "      <th>vote_average</th>\n",
       "      <th>vote_count</th>\n",
       "    </tr>\n",
       "  </thead>\n",
       "  <tbody>\n",
       "    <tr>\n",
       "      <th>0</th>\n",
       "      <td>0</td>\n",
       "      <td>Toy Story Collection</td>\n",
       "      <td>30000000.0</td>\n",
       "      <td>Animation</td>\n",
       "      <td>862</td>\n",
       "      <td>tt0114709</td>\n",
       "      <td>en</td>\n",
       "      <td>21.946943</td>\n",
       "      <td>Pixar Animation Studios</td>\n",
       "      <td>United States of America</td>\n",
       "      <td>1995-10-30</td>\n",
       "      <td>373554033.0</td>\n",
       "      <td>81.0</td>\n",
       "      <td>Released</td>\n",
       "      <td>Toy Story</td>\n",
       "      <td>7.7</td>\n",
       "      <td>5415.0</td>\n",
       "    </tr>\n",
       "    <tr>\n",
       "      <th>1</th>\n",
       "      <td>0</td>\n",
       "      <td>NaN</td>\n",
       "      <td>65000000.0</td>\n",
       "      <td>Adventure</td>\n",
       "      <td>8844</td>\n",
       "      <td>tt0113497</td>\n",
       "      <td>en</td>\n",
       "      <td>17.015539</td>\n",
       "      <td>TriStar Pictures</td>\n",
       "      <td>United States of America</td>\n",
       "      <td>1995-12-15</td>\n",
       "      <td>262797249.0</td>\n",
       "      <td>104.0</td>\n",
       "      <td>Released</td>\n",
       "      <td>Jumanji</td>\n",
       "      <td>6.9</td>\n",
       "      <td>2413.0</td>\n",
       "    </tr>\n",
       "    <tr>\n",
       "      <th>2</th>\n",
       "      <td>0</td>\n",
       "      <td>Grumpy Old Men Collection</td>\n",
       "      <td>NaN</td>\n",
       "      <td>Romance</td>\n",
       "      <td>15602</td>\n",
       "      <td>tt0113228</td>\n",
       "      <td>en</td>\n",
       "      <td>11.712900</td>\n",
       "      <td>Warner Bros.</td>\n",
       "      <td>United States of America</td>\n",
       "      <td>1995-12-22</td>\n",
       "      <td>NaN</td>\n",
       "      <td>101.0</td>\n",
       "      <td>Released</td>\n",
       "      <td>Grumpier Old Men</td>\n",
       "      <td>6.5</td>\n",
       "      <td>92.0</td>\n",
       "    </tr>\n",
       "    <tr>\n",
       "      <th>3</th>\n",
       "      <td>0</td>\n",
       "      <td>NaN</td>\n",
       "      <td>16000000.0</td>\n",
       "      <td>Comedy</td>\n",
       "      <td>31357</td>\n",
       "      <td>tt0114885</td>\n",
       "      <td>en</td>\n",
       "      <td>3.859495</td>\n",
       "      <td>Twentieth Century Fox Film Corporation</td>\n",
       "      <td>United States of America</td>\n",
       "      <td>1995-12-22</td>\n",
       "      <td>81452156.0</td>\n",
       "      <td>127.0</td>\n",
       "      <td>Released</td>\n",
       "      <td>Waiting to Exhale</td>\n",
       "      <td>6.1</td>\n",
       "      <td>34.0</td>\n",
       "    </tr>\n",
       "    <tr>\n",
       "      <th>4</th>\n",
       "      <td>0</td>\n",
       "      <td>Father of the Bride Collection</td>\n",
       "      <td>NaN</td>\n",
       "      <td>Comedy</td>\n",
       "      <td>11862</td>\n",
       "      <td>tt0113041</td>\n",
       "      <td>en</td>\n",
       "      <td>8.387519</td>\n",
       "      <td>Sandollar Productions</td>\n",
       "      <td>United States of America</td>\n",
       "      <td>1995-02-10</td>\n",
       "      <td>76578911.0</td>\n",
       "      <td>106.0</td>\n",
       "      <td>Released</td>\n",
       "      <td>Father of the Bride Part II</td>\n",
       "      <td>5.7</td>\n",
       "      <td>173.0</td>\n",
       "    </tr>\n",
       "  </tbody>\n",
       "</table>\n",
       "</div>"
      ],
      "text/plain": [
       "   is_Adult           belongs_to_collection      budget      genre     id  \\\n",
       "0         0            Toy Story Collection  30000000.0  Animation    862   \n",
       "1         0                             NaN  65000000.0  Adventure   8844   \n",
       "2         0       Grumpy Old Men Collection         NaN    Romance  15602   \n",
       "3         0                             NaN  16000000.0     Comedy  31357   \n",
       "4         0  Father of the Bride Collection         NaN     Comedy  11862   \n",
       "\n",
       "     imdb_id original_language  popularity  \\\n",
       "0  tt0114709                en   21.946943   \n",
       "1  tt0113497                en   17.015539   \n",
       "2  tt0113228                en   11.712900   \n",
       "3  tt0114885                en    3.859495   \n",
       "4  tt0113041                en    8.387519   \n",
       "\n",
       "                       production_company        production_country  \\\n",
       "0                 Pixar Animation Studios  United States of America   \n",
       "1                        TriStar Pictures  United States of America   \n",
       "2                            Warner Bros.  United States of America   \n",
       "3  Twentieth Century Fox Film Corporation  United States of America   \n",
       "4                   Sandollar Productions  United States of America   \n",
       "\n",
       "  release_date      revenue  runtime    status                        title  \\\n",
       "0   1995-10-30  373554033.0     81.0  Released                    Toy Story   \n",
       "1   1995-12-15  262797249.0    104.0  Released                      Jumanji   \n",
       "2   1995-12-22          NaN    101.0  Released             Grumpier Old Men   \n",
       "3   1995-12-22   81452156.0    127.0  Released            Waiting to Exhale   \n",
       "4   1995-02-10   76578911.0    106.0  Released  Father of the Bride Part II   \n",
       "\n",
       "   vote_average  vote_count  \n",
       "0           7.7      5415.0  \n",
       "1           6.9      2413.0  \n",
       "2           6.5        92.0  \n",
       "3           6.1        34.0  \n",
       "4           5.7       173.0  "
      ]
     },
     "execution_count": 20,
     "metadata": {},
     "output_type": "execute_result"
    }
   ],
   "source": [
    "# dimensions of df\n",
    "print(\"Number of rows:\", df.shape[0])\n",
    "print(\"Number of columns:\", df.shape[1])\n",
    "\n",
    "df.head()"
   ]
  },
  {
   "cell_type": "markdown",
   "id": "leading-promotion",
   "metadata": {},
   "source": [
    "### Filter `df` to Only Include Films\n",
    "\n",
    "This project will only be predicting IMDb ratings for *films*.  Therefore, we must remove all other entries that do not fall under this category (TV shows, shorts, etc.)  To do this, I'll use the `title.basics.tsv.gz` dataset downloaded from [IMDb's website](https://www.imdb.com/interfaces/):"
   ]
  },
  {
   "cell_type": "code",
   "execution_count": 21,
   "id": "blond-bicycle",
   "metadata": {},
   "outputs": [
    {
     "name": "stdout",
     "output_type": "stream",
     "text": [
      "Number of rows: 7783583\n",
      "Number of columns: 9\n"
     ]
    },
    {
     "data": {
      "text/html": [
       "<div>\n",
       "<style scoped>\n",
       "    .dataframe tbody tr th:only-of-type {\n",
       "        vertical-align: middle;\n",
       "    }\n",
       "\n",
       "    .dataframe tbody tr th {\n",
       "        vertical-align: top;\n",
       "    }\n",
       "\n",
       "    .dataframe thead th {\n",
       "        text-align: right;\n",
       "    }\n",
       "</style>\n",
       "<table border=\"1\" class=\"dataframe\">\n",
       "  <thead>\n",
       "    <tr style=\"text-align: right;\">\n",
       "      <th></th>\n",
       "      <th>tconst</th>\n",
       "      <th>titleType</th>\n",
       "      <th>primaryTitle</th>\n",
       "      <th>originalTitle</th>\n",
       "      <th>isAdult</th>\n",
       "      <th>startYear</th>\n",
       "      <th>endYear</th>\n",
       "      <th>runtimeMinutes</th>\n",
       "      <th>genres</th>\n",
       "    </tr>\n",
       "  </thead>\n",
       "  <tbody>\n",
       "    <tr>\n",
       "      <th>0</th>\n",
       "      <td>tt0000001</td>\n",
       "      <td>short</td>\n",
       "      <td>Carmencita</td>\n",
       "      <td>Carmencita</td>\n",
       "      <td>0</td>\n",
       "      <td>1894</td>\n",
       "      <td>\\N</td>\n",
       "      <td>1</td>\n",
       "      <td>Documentary,Short</td>\n",
       "    </tr>\n",
       "    <tr>\n",
       "      <th>1</th>\n",
       "      <td>tt0000002</td>\n",
       "      <td>short</td>\n",
       "      <td>Le clown et ses chiens</td>\n",
       "      <td>Le clown et ses chiens</td>\n",
       "      <td>0</td>\n",
       "      <td>1892</td>\n",
       "      <td>\\N</td>\n",
       "      <td>5</td>\n",
       "      <td>Animation,Short</td>\n",
       "    </tr>\n",
       "    <tr>\n",
       "      <th>2</th>\n",
       "      <td>tt0000003</td>\n",
       "      <td>short</td>\n",
       "      <td>Pauvre Pierrot</td>\n",
       "      <td>Pauvre Pierrot</td>\n",
       "      <td>0</td>\n",
       "      <td>1892</td>\n",
       "      <td>\\N</td>\n",
       "      <td>4</td>\n",
       "      <td>Animation,Comedy,Romance</td>\n",
       "    </tr>\n",
       "    <tr>\n",
       "      <th>3</th>\n",
       "      <td>tt0000004</td>\n",
       "      <td>short</td>\n",
       "      <td>Un bon bock</td>\n",
       "      <td>Un bon bock</td>\n",
       "      <td>0</td>\n",
       "      <td>1892</td>\n",
       "      <td>\\N</td>\n",
       "      <td>12</td>\n",
       "      <td>Animation,Short</td>\n",
       "    </tr>\n",
       "    <tr>\n",
       "      <th>4</th>\n",
       "      <td>tt0000005</td>\n",
       "      <td>short</td>\n",
       "      <td>Blacksmith Scene</td>\n",
       "      <td>Blacksmith Scene</td>\n",
       "      <td>0</td>\n",
       "      <td>1893</td>\n",
       "      <td>\\N</td>\n",
       "      <td>1</td>\n",
       "      <td>Comedy,Short</td>\n",
       "    </tr>\n",
       "  </tbody>\n",
       "</table>\n",
       "</div>"
      ],
      "text/plain": [
       "      tconst titleType            primaryTitle           originalTitle  \\\n",
       "0  tt0000001     short              Carmencita              Carmencita   \n",
       "1  tt0000002     short  Le clown et ses chiens  Le clown et ses chiens   \n",
       "2  tt0000003     short          Pauvre Pierrot          Pauvre Pierrot   \n",
       "3  tt0000004     short             Un bon bock             Un bon bock   \n",
       "4  tt0000005     short        Blacksmith Scene        Blacksmith Scene   \n",
       "\n",
       "  isAdult startYear endYear runtimeMinutes                    genres  \n",
       "0       0      1894      \\N              1         Documentary,Short  \n",
       "1       0      1892      \\N              5           Animation,Short  \n",
       "2       0      1892      \\N              4  Animation,Comedy,Romance  \n",
       "3       0      1892      \\N             12           Animation,Short  \n",
       "4       0      1893      \\N              1              Comedy,Short  "
      ]
     },
     "execution_count": 21,
     "metadata": {},
     "output_type": "execute_result"
    }
   ],
   "source": [
    "# import IMDb dataset\n",
    "IMDb_basics = pd.read_csv(\"data/IMDb/title.basics.tsv.gz\", sep = \"\\t\")\n",
    "# dimensions of dataset\n",
    "print(\"Number of rows:\", IMDb_basics.shape[0])\n",
    "print(\"Number of columns:\", IMDb_basics.shape[1])\n",
    "# preview dataset\n",
    "IMDb_basics.head()"
   ]
  },
  {
   "cell_type": "code",
   "execution_count": 22,
   "id": "defined-algeria",
   "metadata": {},
   "outputs": [
    {
     "name": "stdout",
     "output_type": "stream",
     "text": [
      "There are NAs present.  Please fix these columns\n",
      "\n",
      "is_Adult                 0.000000\n",
      "belongs_to_collection    0.901217\n",
      "budget                   0.804547\n",
      "genre                    0.053749\n",
      "id                       0.000000\n",
      "imdb_id                  0.000374\n",
      "original_language        0.000242\n",
      "popularity               0.001519\n",
      "production_company       0.261286\n",
      "production_country       0.138270\n",
      "release_date             0.001915\n",
      "revenue                  0.837167\n",
      "runtime                  0.040015\n",
      "status                   0.001849\n",
      "title                    0.000066\n",
      "vote_average             0.065987\n",
      "vote_count               0.063808\n",
      "titleType                0.001012\n",
      "primaryTitle             0.001012\n",
      "originalTitle            0.001012\n",
      "isAdult                  0.001012\n",
      "startYear                0.001012\n",
      "endYear                  0.001012\n",
      "runtimeMinutes           0.001012\n",
      "genres                   0.001012\n",
      "dtype: float64\n"
     ]
    }
   ],
   "source": [
    "# left join df with IMDb basics on IMDb ID\n",
    "df = dc.IMDb_update(df, IMDb_basics, \"imdb_id\", \"tconst\")"
   ]
  },
  {
   "cell_type": "markdown",
   "id": "technical-aerospace",
   "metadata": {},
   "source": [
    "Unfortunately, 0.1% of the entries in `df` were not paired with an entry in `IMDb_basics`.  We'll filter out `df` here to only include rows where `titleType` = \"movie\" and then take care of the missing values in a later section:"
   ]
  },
  {
   "cell_type": "code",
   "execution_count": 23,
   "id": "municipal-election",
   "metadata": {},
   "outputs": [
    {
     "name": "stdout",
     "output_type": "stream",
     "text": [
      "Number of rows: 39109\n",
      "Number of columns: 18\n"
     ]
    }
   ],
   "source": [
    "# remove rows with NAs in `titleType`\n",
    "df = df[df[\"titleType\"] == \"movie\"]\n",
    "# drop unnecessary columns\n",
    "df.drop(IMDb_basics.columns[2:], axis = 1, inplace = True)\n",
    "\n",
    "# new dimensions of df\n",
    "print(\"Number of rows:\", df.shape[0])\n",
    "print(\"Number of columns:\", df.shape[1])"
   ]
  },
  {
   "cell_type": "markdown",
   "id": "chemical-thanks",
   "metadata": {},
   "source": [
    "### Removing Films that Haven't Been Released\n",
    "\n",
    "For this project, we'll only be working with data on films that have already been released to the general public.  If a film has not been released to the public yet, then most people won't have a chance to rate the film!  This means no rumoured, planned, in-production, nor post-production films allowed:"
   ]
  },
  {
   "cell_type": "code",
   "execution_count": 24,
   "id": "recent-anatomy",
   "metadata": {},
   "outputs": [
    {
     "name": "stdout",
     "output_type": "stream",
     "text": [
      "Number of rows: 38727\n",
      "Number of columns: 17\n"
     ]
    }
   ],
   "source": [
    "# only keeping released films\n",
    "df = df[df[\"status\"] == \"Released\"]\n",
    "# no need for this column anymore\n",
    "df.drop(\"status\", axis = 1, inplace = True)\n",
    "\n",
    "print(\"Number of rows:\", df.shape[0])\n",
    "print(\"Number of columns:\", df.shape[1])"
   ]
  },
  {
   "cell_type": "markdown",
   "id": "viral-cassette",
   "metadata": {},
   "source": [
    "### Investigating `release_date`\n",
    "\n",
    "Now that we've changed the data type of `release_date`, let's see how far back our DataFrame goes:"
   ]
  },
  {
   "cell_type": "code",
   "execution_count": 25,
   "id": "caring-happiness",
   "metadata": {},
   "outputs": [
    {
     "name": "stdout",
     "output_type": "stream",
     "text": [
      "43105   1906-12-26\n",
      "24777   1911-07-01\n",
      "39643   1912-01-01\n",
      "17711   1912-10-15\n",
      "43061   1912-11-13\n",
      "           ...    \n",
      "42239   2017-10-27\n",
      "44974   2017-11-03\n",
      "44504   2017-11-17\n",
      "42234   2017-11-30\n",
      "44271   2017-12-27\n",
      "Name: release_date, Length: 38676, dtype: datetime64[ns]\n"
     ]
    },
    {
     "data": {
      "image/png": "[encoded data removed]",
      "text/plain": [
       "<Figure size 1080x360 with 2 Axes>"
      ]
     },
     "metadata": {
      "needs_background": "light"
     },
     "output_type": "display_data"
    }
   ],
   "source": [
    "fig, axes = plt.subplots(1, 2, figsize = (15,5))\n",
    "\n",
    "# distribution of `release_date` via histogram and boxplot\n",
    "sns.histplot(df[\"release_date\"], ax = axes[0])\n",
    "axes[0].set_title(\"Distribution of release_date\")\n",
    "axes[0].set_xlabel(\"Year\")\n",
    "\n",
    "sns.boxplot(df[\"release_date\"].dt.year.dropna(), ax = axes[1])\n",
    "axes[1].set_title(\"Boxplot of release_date\")\n",
    "axes[1].set_xlabel(\"Year\");\n",
    "\n",
    "fig.tight_layout()\n",
    "# sort column in ascending order\n",
    "print(df[\"release_date\"].dropna().sort_values())"
   ]
  },
  {
   "cell_type": "markdown",
   "id": "specified-magic",
   "metadata": {},
   "source": [
    "The oldest film in `df` is from 1906!  Given the boxplot above, it seems that any film before 1930 is considered an outlier.  Furthermore, if we were to add a feature later on, getting information on older films will be harder than more recent films.  Therefore, we'll filter `df` to only include films from 1930 onwards:"
   ]
  },
  {
   "cell_type": "code",
   "execution_count": 26,
   "id": "vocal-graduate",
   "metadata": {},
   "outputs": [
    {
     "name": "stdout",
     "output_type": "stream",
     "text": [
      "Number of rows: 38214\n",
      "Number of columns: 17\n"
     ]
    }
   ],
   "source": [
    "# only films on or after 1930\n",
    "df = df[df[\"release_date\"] >= \"1930\"]\n",
    "\n",
    "# new dimensions of df\n",
    "print(\"Number of rows:\", df.shape[0])\n",
    "print(\"Number of columns:\", df.shape[1])"
   ]
  },
  {
   "cell_type": "markdown",
   "id": "cutting-beauty",
   "metadata": {},
   "source": [
    "### Filtering `runtime`\n",
    "\n",
    "Let's take a look at the distribution of `runtime` one more time:"
   ]
  },
  {
   "cell_type": "code",
   "execution_count": 27,
   "id": "electrical-gospel",
   "metadata": {},
   "outputs": [
    {
     "data": {
      "image/png": "[encoded data removed]",
      "text/plain": [
       "<Figure size 1080x360 with 2 Axes>"
      ]
     },
     "metadata": {
      "needs_background": "light"
     },
     "output_type": "display_data"
    }
   ],
   "source": [
    "fig, axes = plt.subplots(1, 2, figsize = (15,5))\n",
    "\n",
    "# distribution of `runtime` via histogram and boxplot\n",
    "sns.histplot(df[\"runtime\"], ax = axes[0])\n",
    "axes[0].set_title(\"Distribution of runtime\")\n",
    "axes[0].set_xlabel(\"Film runtime (in minutes)\")\n",
    "\n",
    "sns.boxplot(df[\"runtime\"].dropna(), ax = axes[1])\n",
    "axes[1].set_title(\"Boxplot of runtime\")\n",
    "axes[1].set_xlabel(\"Film runtime (in minutes)\");\n",
    "\n",
    "fig.tight_layout()"
   ]
  },
  {
   "cell_type": "markdown",
   "id": "basic-regression",
   "metadata": {},
   "source": [
    "The histogram and boxplot of `runtime` showed that the distribution was positively skewed and there are films with high `runtime` values.  For example, the boxplot reveals that some films have a `runtime` greater than 200 minutes (3.33 hours)!  For reference, **the theatrical release** of *The Lord of the Rings: The Return of the King* has a runtime of 3 hours and 21 minutes - and that's already considered a *long* film!\n",
    "\n",
    "It seems that any film with a `runtime` greater than 150 minutes (2.5 hours) is already considered an outlier.  Given that most films *generally* don't have a runtime longer than this, we'll filter `df` to only include films with a `runtime` less than or equal to 150 minutes.  Furthermore, there are also films with a `runtime` less than 45 and are considered outliers.  We'll filter `df` to include films 45 minutes or longer.  This way our data is more representative of all the films being produced:"
   ]
  },
  {
   "cell_type": "code",
   "execution_count": 28,
   "id": "conscious-delhi",
   "metadata": {},
   "outputs": [
    {
     "data": {
      "text/plain": [
       "0.02491233579316481"
      ]
     },
     "execution_count": 28,
     "metadata": {},
     "output_type": "execute_result"
    }
   ],
   "source": [
    "# ratio of data with `runtime` > 150 or < 45\n",
    "sum((df[\"runtime\"] > 150) | (df[\"runtime\"] < 45)) / len(df)"
   ]
  },
  {
   "cell_type": "code",
   "execution_count": 29,
   "id": "approximate-choir",
   "metadata": {},
   "outputs": [
    {
     "name": "stdout",
     "output_type": "stream",
     "text": [
      "Number of rows: 35855\n",
      "Number of columns: 17\n"
     ]
    }
   ],
   "source": [
    "# only keeping films with 45 <= `runtime` <= 150\n",
    "df = df[(45 <= df[\"runtime\"]) & (df[\"runtime\"] <= 150)]\n",
    "\n",
    "print(\"Number of rows:\", df.shape[0])\n",
    "print(\"Number of columns:\", df.shape[1])"
   ]
  },
  {
   "cell_type": "markdown",
   "id": "actual-genesis",
   "metadata": {},
   "source": [
    "### Dealing with Missing Values\n",
    "\n",
    "Now that we've reformatted our columns to the correct data type and filtered the data to include only released films from 1930 onwards, we're ready to deal with our dreaded `NAs`.  Here's a look at the percentage of missing values per column:"
   ]
  },
  {
   "cell_type": "code",
   "execution_count": 30,
   "id": "labeled-madness",
   "metadata": {},
   "outputs": [
    {
     "data": {
      "text/plain": [
       "is_Adult                  0.00\n",
       "belongs_to_collection    90.49\n",
       "budget                   77.74\n",
       "genre                     3.42\n",
       "id                        0.00\n",
       "imdb_id                   0.00\n",
       "original_language         0.02\n",
       "popularity                0.06\n",
       "production_company       21.89\n",
       "production_country       10.41\n",
       "release_date              0.00\n",
       "revenue                  80.47\n",
       "runtime                   0.00\n",
       "title                     0.00\n",
       "vote_average              5.17\n",
       "vote_count                4.99\n",
       "titleType                 0.00\n",
       "dtype: float64"
      ]
     },
     "execution_count": 30,
     "metadata": {},
     "output_type": "execute_result"
    }
   ],
   "source": [
    "# percent of missing values per column\n",
    "round((df.isna().sum()/len(df))*100, 2)"
   ]
  },
  {
   "cell_type": "code",
   "execution_count": 31,
   "id": "macro-guatemala",
   "metadata": {},
   "outputs": [
    {
     "name": "stdout",
     "output_type": "stream",
     "text": [
      "(35855, 17)\n"
     ]
    }
   ],
   "source": [
    "# dimensions of df before web-scraping\n",
    "df.reset_index(drop = True, inplace = True)\n",
    "print(df.shape)\n",
    "df.to_csv(\"data/df.csv\")"
   ]
  },
  {
   "cell_type": "markdown",
   "id": "helpful-gothic",
   "metadata": {},
   "source": [
    "#### `belongs_to_collection` - Web Scraping TMDb\n",
    "\n",
    "Unfortunately, `belongs_to_collection` has a staggering 90% of its values missing.  This is an interesting feature to have as films belonging to a franchise could have an effect on the overall IMDb rating.  Given the nature of this variable, it wouldn't make sense to replace the `NAs` with random values or the mode.  Normally, a column with 90% of its values missing should be dropped, **however**, there is a possible solution.\n",
    "\n",
    "A film's The Movie Database (TMDb) website lets us know if the film belongs to a franchise or not.  This is important because we can use web scraping tools to extract that information and fill our `NAs`.  Specifically, I used `Code/movie_scraping.py` to web scrape from TMDb's website and create a binary variable stored in `data/web_scrape/franchise.csv` (1 = part of a franchise, 0 = stand-alone film).\n",
    "\n",
    "In this section, we'll simply read in the csv found in `data/web_scrape` and add it to `df`.  After that, we'll inspect how many missing values we have for this variable:"
   ]
  },
  {
   "cell_type": "code",
   "execution_count": 32,
   "id": "challenging-calculator",
   "metadata": {},
   "outputs": [
    {
     "data": {
      "text/html": [
       "<div>\n",
       "<style scoped>\n",
       "    .dataframe tbody tr th:only-of-type {\n",
       "        vertical-align: middle;\n",
       "    }\n",
       "\n",
       "    .dataframe tbody tr th {\n",
       "        vertical-align: top;\n",
       "    }\n",
       "\n",
       "    .dataframe thead th {\n",
       "        text-align: right;\n",
       "    }\n",
       "</style>\n",
       "<table border=\"1\" class=\"dataframe\">\n",
       "  <thead>\n",
       "    <tr style=\"text-align: right;\">\n",
       "      <th></th>\n",
       "      <th>is_Adult</th>\n",
       "      <th>belongs_to_franchise</th>\n",
       "      <th>budget</th>\n",
       "      <th>genre</th>\n",
       "      <th>id</th>\n",
       "      <th>imdb_id</th>\n",
       "      <th>original_language</th>\n",
       "      <th>popularity</th>\n",
       "      <th>production_company</th>\n",
       "      <th>production_country</th>\n",
       "      <th>release_date</th>\n",
       "      <th>revenue</th>\n",
       "      <th>runtime</th>\n",
       "      <th>title</th>\n",
       "      <th>vote_average</th>\n",
       "      <th>vote_count</th>\n",
       "      <th>titleType</th>\n",
       "    </tr>\n",
       "  </thead>\n",
       "  <tbody>\n",
       "    <tr>\n",
       "      <th>0</th>\n",
       "      <td>0</td>\n",
       "      <td>1.0</td>\n",
       "      <td>30000000.0</td>\n",
       "      <td>Animation</td>\n",
       "      <td>862</td>\n",
       "      <td>tt0114709</td>\n",
       "      <td>en</td>\n",
       "      <td>21.946943</td>\n",
       "      <td>Pixar Animation Studios</td>\n",
       "      <td>United States of America</td>\n",
       "      <td>1995-10-30</td>\n",
       "      <td>373554033.0</td>\n",
       "      <td>81.0</td>\n",
       "      <td>Toy Story</td>\n",
       "      <td>7.7</td>\n",
       "      <td>5415.0</td>\n",
       "      <td>movie</td>\n",
       "    </tr>\n",
       "    <tr>\n",
       "      <th>1</th>\n",
       "      <td>0</td>\n",
       "      <td>1.0</td>\n",
       "      <td>65000000.0</td>\n",
       "      <td>Adventure</td>\n",
       "      <td>8844</td>\n",
       "      <td>tt0113497</td>\n",
       "      <td>en</td>\n",
       "      <td>17.015539</td>\n",
       "      <td>TriStar Pictures</td>\n",
       "      <td>United States of America</td>\n",
       "      <td>1995-12-15</td>\n",
       "      <td>262797249.0</td>\n",
       "      <td>104.0</td>\n",
       "      <td>Jumanji</td>\n",
       "      <td>6.9</td>\n",
       "      <td>2413.0</td>\n",
       "      <td>movie</td>\n",
       "    </tr>\n",
       "    <tr>\n",
       "      <th>2</th>\n",
       "      <td>0</td>\n",
       "      <td>1.0</td>\n",
       "      <td>NaN</td>\n",
       "      <td>Romance</td>\n",
       "      <td>15602</td>\n",
       "      <td>tt0113228</td>\n",
       "      <td>en</td>\n",
       "      <td>11.712900</td>\n",
       "      <td>Warner Bros.</td>\n",
       "      <td>United States of America</td>\n",
       "      <td>1995-12-22</td>\n",
       "      <td>NaN</td>\n",
       "      <td>101.0</td>\n",
       "      <td>Grumpier Old Men</td>\n",
       "      <td>6.5</td>\n",
       "      <td>92.0</td>\n",
       "      <td>movie</td>\n",
       "    </tr>\n",
       "    <tr>\n",
       "      <th>3</th>\n",
       "      <td>0</td>\n",
       "      <td>0.0</td>\n",
       "      <td>16000000.0</td>\n",
       "      <td>Comedy</td>\n",
       "      <td>31357</td>\n",
       "      <td>tt0114885</td>\n",
       "      <td>en</td>\n",
       "      <td>3.859495</td>\n",
       "      <td>Twentieth Century Fox Film Corporation</td>\n",
       "      <td>United States of America</td>\n",
       "      <td>1995-12-22</td>\n",
       "      <td>81452156.0</td>\n",
       "      <td>127.0</td>\n",
       "      <td>Waiting to Exhale</td>\n",
       "      <td>6.1</td>\n",
       "      <td>34.0</td>\n",
       "      <td>movie</td>\n",
       "    </tr>\n",
       "    <tr>\n",
       "      <th>4</th>\n",
       "      <td>0</td>\n",
       "      <td>1.0</td>\n",
       "      <td>NaN</td>\n",
       "      <td>Comedy</td>\n",
       "      <td>11862</td>\n",
       "      <td>tt0113041</td>\n",
       "      <td>en</td>\n",
       "      <td>8.387519</td>\n",
       "      <td>Sandollar Productions</td>\n",
       "      <td>United States of America</td>\n",
       "      <td>1995-02-10</td>\n",
       "      <td>76578911.0</td>\n",
       "      <td>106.0</td>\n",
       "      <td>Father of the Bride Part II</td>\n",
       "      <td>5.7</td>\n",
       "      <td>173.0</td>\n",
       "      <td>movie</td>\n",
       "    </tr>\n",
       "  </tbody>\n",
       "</table>\n",
       "</div>"
      ],
      "text/plain": [
       "   is_Adult  belongs_to_franchise      budget      genre     id    imdb_id  \\\n",
       "0         0                   1.0  30000000.0  Animation    862  tt0114709   \n",
       "1         0                   1.0  65000000.0  Adventure   8844  tt0113497   \n",
       "2         0                   1.0         NaN    Romance  15602  tt0113228   \n",
       "3         0                   0.0  16000000.0     Comedy  31357  tt0114885   \n",
       "4         0                   1.0         NaN     Comedy  11862  tt0113041   \n",
       "\n",
       "  original_language  popularity                      production_company  \\\n",
       "0                en   21.946943                 Pixar Animation Studios   \n",
       "1                en   17.015539                        TriStar Pictures   \n",
       "2                en   11.712900                            Warner Bros.   \n",
       "3                en    3.859495  Twentieth Century Fox Film Corporation   \n",
       "4                en    8.387519                   Sandollar Productions   \n",
       "\n",
       "         production_country release_date      revenue  runtime  \\\n",
       "0  United States of America   1995-10-30  373554033.0     81.0   \n",
       "1  United States of America   1995-12-15  262797249.0    104.0   \n",
       "2  United States of America   1995-12-22          NaN    101.0   \n",
       "3  United States of America   1995-12-22   81452156.0    127.0   \n",
       "4  United States of America   1995-02-10   76578911.0    106.0   \n",
       "\n",
       "                         title  vote_average  vote_count titleType  \n",
       "0                    Toy Story           7.7      5415.0     movie  \n",
       "1                      Jumanji           6.9      2413.0     movie  \n",
       "2             Grumpier Old Men           6.5        92.0     movie  \n",
       "3            Waiting to Exhale           6.1        34.0     movie  \n",
       "4  Father of the Bride Part II           5.7       173.0     movie  "
      ]
     },
     "execution_count": 32,
     "metadata": {},
     "output_type": "execute_result"
    }
   ],
   "source": [
    "# read in csv containing information on franchise\n",
    "franchise = pd.read_csv(\"data/web_scrape/franchise.csv\")\n",
    "\n",
    "df[\"belongs_to_collection\"] = franchise[\"belongs_to_franchise\"]\n",
    "df.rename({\"belongs_to_collection\": \"belongs_to_franchise\"}, axis = 1, inplace = True)\n",
    "\n",
    "# preview data\n",
    "df.head()"
   ]
  },
  {
   "cell_type": "markdown",
   "id": "conceptual-width",
   "metadata": {},
   "source": [
    "Now that we've added this column to `df`, let's see how many missing values came with it:"
   ]
  },
  {
   "cell_type": "code",
   "execution_count": 33,
   "id": "southwest-nevada",
   "metadata": {},
   "outputs": [
    {
     "data": {
      "text/plain": [
       "0.00047413192023427694"
      ]
     },
     "execution_count": 33,
     "metadata": {},
     "output_type": "execute_result"
    }
   ],
   "source": [
    "# ratio of missing values in our new column\n",
    "df[\"belongs_to_franchise\"].isna().sum() / len(df)"
   ]
  },
  {
   "cell_type": "markdown",
   "id": "adolescent-carol",
   "metadata": {},
   "source": [
    "That's good news!  We went from 90% of our data missing to only 0.04%!  Let's drop the rows with missing data:"
   ]
  },
  {
   "cell_type": "code",
   "execution_count": 34,
   "id": "italian-teens",
   "metadata": {},
   "outputs": [],
   "source": [
    "# remove rows\n",
    "df = df.dropna(subset = [\"belongs_to_franchise\"])\n",
    "# since belongs_to_franchise is binary, let's change its type to int\n",
    "df[\"belongs_to_franchise\"] = df[\"belongs_to_franchise\"].astype(int)"
   ]
  },
  {
   "cell_type": "markdown",
   "id": "complicated-endorsement",
   "metadata": {},
   "source": [
    "#### `vote_average` and `vote_count` - Updating IMDb Ratings + Vote Counts\n",
    "\n",
    "After taking a look at the IMDb website, I noticed that our DataFrame `df` is outdated.  For example, a film like *Jumanji* has an average rating of 6.9 and a vote count of 2,413 but the *Jumanji* (1995) [IMDb page](https://www.imdb.com/title/tt0113497/?ref_=nv_sr_srsg_6) currently (9-04-2021) shows a rating of 7.0 and a vote count of 312,578!  Seeing as `vote_average` is our variable of interest in this project, I believe it's a good idea to update it with more current values.\n",
    "\n",
    "In order to do this, I downloaded the `title.ratings.tsv.gz` dataset from [IMDb](https://www.imdb.com/interfaces/).  This way, I can perform a left join between both DataFrames and then update the values.  *However*, before proceding with this, let's quickly check and see if `df` has unique IMDb IDs for each film:"
   ]
  },
  {
   "cell_type": "code",
   "execution_count": 35,
   "id": "municipal-honolulu",
   "metadata": {},
   "outputs": [
    {
     "data": {
      "text/plain": [
       "True"
      ]
     },
     "execution_count": 35,
     "metadata": {},
     "output_type": "execute_result"
    }
   ],
   "source": [
    "# number of unique IMDb IDs\n",
    "len(df[\"imdb_id\"].unique()) == df.shape[0]"
   ]
  },
  {
   "cell_type": "markdown",
   "id": "recorded-purple",
   "metadata": {},
   "source": [
    "This means that the films with an IMDb ID of 0 (as seen in the EDA) were removed in the previous cleaning and filtering steps.\n",
    "\n",
    "Let's update each film's `vote_average` and `vote_count` using IMDb's `title.ratings.tsv.gz` (found in the [data](data) folder):"
   ]
  },
  {
   "cell_type": "code",
   "execution_count": 36,
   "id": "traditional-preliminary",
   "metadata": {},
   "outputs": [
    {
     "name": "stdout",
     "output_type": "stream",
     "text": [
      "There are NAs present.  Please fix these columns\n",
      "\n",
      "is_Adult                0.000000\n",
      "belongs_to_franchise    0.000000\n",
      "budget                  0.777276\n",
      "genre                   0.034209\n",
      "id                      0.000000\n",
      "imdb_id                 0.000000\n",
      "original_language       0.000167\n",
      "popularity              0.000558\n",
      "production_company      0.218790\n",
      "production_country      0.103968\n",
      "release_date            0.000000\n",
      "revenue                 0.804621\n",
      "runtime                 0.000000\n",
      "title                   0.000000\n",
      "vote_average            0.051705\n",
      "vote_count              0.049863\n",
      "titleType               0.000000\n",
      "averageRating           0.000195\n",
      "numVotes                0.000195\n",
      "dtype: float64\n"
     ]
    }
   ],
   "source": [
    "# reading in IMDb ratings csv\n",
    "IMDb_ratings = pd.read_csv(\"data/IMDb/title.ratings.tsv.gz\", sep = \"\\t\")\n",
    "\n",
    "# update df with current ratings and vote counts\n",
    "df = dc.IMDb_update(df, IMDb_ratings, \"imdb_id\", \"tconst\")"
   ]
  },
  {
   "cell_type": "markdown",
   "id": "received-fiction",
   "metadata": {},
   "source": [
    "Only 0.01% of films in `df` were not matched with a film in `title.ratings.tsv.gz`.  We'll just keep their current stats the way they are:"
   ]
  },
  {
   "cell_type": "code",
   "execution_count": 37,
   "id": "linear-davis",
   "metadata": {},
   "outputs": [
    {
     "data": {
      "text/html": [
       "<div>\n",
       "<style scoped>\n",
       "    .dataframe tbody tr th:only-of-type {\n",
       "        vertical-align: middle;\n",
       "    }\n",
       "\n",
       "    .dataframe tbody tr th {\n",
       "        vertical-align: top;\n",
       "    }\n",
       "\n",
       "    .dataframe thead th {\n",
       "        text-align: right;\n",
       "    }\n",
       "</style>\n",
       "<table border=\"1\" class=\"dataframe\">\n",
       "  <thead>\n",
       "    <tr style=\"text-align: right;\">\n",
       "      <th></th>\n",
       "      <th>is_Adult</th>\n",
       "      <th>belongs_to_franchise</th>\n",
       "      <th>budget</th>\n",
       "      <th>genre</th>\n",
       "      <th>id</th>\n",
       "      <th>imdb_id</th>\n",
       "      <th>original_language</th>\n",
       "      <th>popularity</th>\n",
       "      <th>production_company</th>\n",
       "      <th>production_country</th>\n",
       "      <th>release_date</th>\n",
       "      <th>revenue</th>\n",
       "      <th>runtime</th>\n",
       "      <th>title</th>\n",
       "      <th>averageRating</th>\n",
       "      <th>numVotes</th>\n",
       "    </tr>\n",
       "  </thead>\n",
       "  <tbody>\n",
       "    <tr>\n",
       "      <th>1</th>\n",
       "      <td>0</td>\n",
       "      <td>1</td>\n",
       "      <td>65000000.0</td>\n",
       "      <td>Adventure</td>\n",
       "      <td>8844</td>\n",
       "      <td>tt0113497</td>\n",
       "      <td>en</td>\n",
       "      <td>17.015539</td>\n",
       "      <td>TriStar Pictures</td>\n",
       "      <td>United States of America</td>\n",
       "      <td>1995-12-15</td>\n",
       "      <td>262797249.0</td>\n",
       "      <td>104.0</td>\n",
       "      <td>Jumanji</td>\n",
       "      <td>7.0</td>\n",
       "      <td>312530.0</td>\n",
       "    </tr>\n",
       "  </tbody>\n",
       "</table>\n",
       "</div>"
      ],
      "text/plain": [
       "   is_Adult  belongs_to_franchise      budget      genre    id    imdb_id  \\\n",
       "1         0                     1  65000000.0  Adventure  8844  tt0113497   \n",
       "\n",
       "  original_language  popularity production_company        production_country  \\\n",
       "1                en   17.015539   TriStar Pictures  United States of America   \n",
       "\n",
       "  release_date      revenue  runtime    title  averageRating  numVotes  \n",
       "1   1995-12-15  262797249.0    104.0  Jumanji            7.0  312530.0  "
      ]
     },
     "execution_count": 37,
     "metadata": {},
     "output_type": "execute_result"
    }
   ],
   "source": [
    "# values to fill NAs\n",
    "values = {\"averageRating\": df[\"vote_average\"][df[\"averageRating\"].isna()],\n",
    "         \"numVotes\": df[\"vote_count\"][df[\"numVotes\"].isna()]}\n",
    "# fill NAs\n",
    "df.fillna(values, inplace = True)\n",
    "# drop `vote_average` and `vote_count` since we already have updated columns\n",
    "# also get rid of `titleType` since all entries are films\n",
    "df = df.drop([\"vote_average\", \"vote_count\", \"titleType\"], axis = 1)\n",
    "\n",
    "# check to see if Jumanji's IMDb rating has changed\n",
    "df[df[\"title\"] == \"Jumanji\"]"
   ]
  },
  {
   "cell_type": "markdown",
   "id": "synthetic-curtis",
   "metadata": {},
   "source": [
    "Let's check and see if `averageRating` and `numVotes` still have `NAs`:"
   ]
  },
  {
   "cell_type": "code",
   "execution_count": 38,
   "id": "medical-means",
   "metadata": {},
   "outputs": [
    {
     "data": {
      "text/plain": [
       "averageRating    5\n",
       "numVotes         5\n",
       "dtype: int64"
      ]
     },
     "execution_count": 38,
     "metadata": {},
     "output_type": "execute_result"
    }
   ],
   "source": [
    "# number of missing values in updated columns\n",
    "df[[\"averageRating\", \"numVotes\"]].isna().sum()"
   ]
  },
  {
   "cell_type": "markdown",
   "id": "thick-cabinet",
   "metadata": {},
   "source": [
    "Since we're only dealing with 5 films out of thousands, we can just get rid of them:"
   ]
  },
  {
   "cell_type": "code",
   "execution_count": 39,
   "id": "returning-functionality",
   "metadata": {},
   "outputs": [],
   "source": [
    "# getting rid of rows with NAs in `averageRating` and `numVotes`\n",
    "df.dropna(subset = [\"averageRating\", \"numVotes\"], inplace = True)"
   ]
  },
  {
   "cell_type": "markdown",
   "id": "brief-consumption",
   "metadata": {},
   "source": [
    "#### `genre`\n",
    "\n",
    "Similar to `vote_average` and `vote_count`, IMDb has information on film genres in `title.basics.tsv.gz`.  We'll use this dataset to perform a left join and see if we can fill in the `NAs` present in `genre`:"
   ]
  },
  {
   "cell_type": "code",
   "execution_count": 40,
   "id": "diverse-avenue",
   "metadata": {},
   "outputs": [
    {
     "name": "stdout",
     "output_type": "stream",
     "text": [
      "There are NAs present.  Please fix these columns\n",
      "\n",
      "is_Adult                0.000000\n",
      "belongs_to_franchise    0.000000\n",
      "budget                  0.777272\n",
      "genre                   0.034131\n",
      "id                      0.000000\n",
      "imdb_id                 0.000000\n",
      "original_language       0.000167\n",
      "popularity              0.000558\n",
      "production_company      0.218709\n",
      "production_country      0.103871\n",
      "release_date            0.000000\n",
      "revenue                 0.804594\n",
      "runtime                 0.000000\n",
      "title                   0.000000\n",
      "averageRating           0.000000\n",
      "numVotes                0.000000\n",
      "titleType               0.000000\n",
      "primaryTitle            0.000000\n",
      "originalTitle           0.000000\n",
      "isAdult                 0.000000\n",
      "startYear               0.000000\n",
      "endYear                 0.000000\n",
      "runtimeMinutes          0.000000\n",
      "genres                  0.000000\n",
      "dtype: float64\n"
     ]
    }
   ],
   "source": [
    "# perform left join on \"imdb_id\" and \"tconst\"\n",
    "df = dc.IMDb_update(df, IMDb_basics, \"imdb_id\", \"tconst\")"
   ]
  },
  {
   "cell_type": "markdown",
   "id": "devoted-mentor",
   "metadata": {},
   "source": [
    "Fortunately, all entries in `df` were matched with an entry in `IMDb_basics`!  We'll fill the missing values in `genre` with the values found in IMDb's `genres`:"
   ]
  },
  {
   "cell_type": "code",
   "execution_count": 41,
   "id": "animal-inventory",
   "metadata": {},
   "outputs": [
    {
     "name": "stdout",
     "output_type": "stream",
     "text": [
      "There is/are now 0 missing genre(s).\n"
     ]
    }
   ],
   "source": [
    "# drop columns from IMDb table\n",
    "df = df.drop([\"titleType\", \"primaryTitle\", \"originalTitle\",\n",
    "             \"isAdult\", \"startYear\", \"endYear\", \"runtimeMinutes\"], axis = 1)\n",
    "\n",
    "# extract only primary genre from IMDb genres\n",
    "genres = df.loc[df[\"genre\"].isna(), \"genres\"].apply(dc.genre_separator)\n",
    "\n",
    "# fill NAs with IMDb genres\n",
    "df.fillna({\"genre\": genres}, inplace = True)\n",
    "\n",
    "# drop IMDb's genres\n",
    "df = df.drop(\"genres\", axis = 1)\n",
    "\n",
    "print(\"There is/are now\", df[\"genre\"].isna().sum(), \"missing genre(s).\")"
   ]
  },
  {
   "cell_type": "markdown",
   "id": "connected-heater",
   "metadata": {},
   "source": [
    "We now have 0 missing values!  Let's check out what other columns have missing values:"
   ]
  },
  {
   "cell_type": "code",
   "execution_count": 42,
   "id": "amazing-spotlight",
   "metadata": {},
   "outputs": [
    {
     "data": {
      "text/plain": [
       "is_Adult                0.000000\n",
       "belongs_to_franchise    0.000000\n",
       "budget                  0.777272\n",
       "genre                   0.000000\n",
       "id                      0.000000\n",
       "imdb_id                 0.000000\n",
       "original_language       0.000167\n",
       "popularity              0.000558\n",
       "production_company      0.218709\n",
       "production_country      0.103871\n",
       "release_date            0.000000\n",
       "revenue                 0.804594\n",
       "runtime                 0.000000\n",
       "title                   0.000000\n",
       "averageRating           0.000000\n",
       "numVotes                0.000000\n",
       "dtype: float64"
      ]
     },
     "execution_count": 42,
     "metadata": {},
     "output_type": "execute_result"
    }
   ],
   "source": [
    "# ratio of missing values to number of films per column\n",
    "df.isna().sum() / len(df)"
   ]
  },
  {
   "cell_type": "markdown",
   "id": "defensive-membrane",
   "metadata": {},
   "source": [
    "#### `popularity` and `original_language`\n",
    "\n",
    "Fortunately, these two features don't have a lot missing values.  To speed up the cleaning, we'll just get rid of these rows:"
   ]
  },
  {
   "cell_type": "code",
   "execution_count": 43,
   "id": "educational-specialist",
   "metadata": {},
   "outputs": [],
   "source": [
    "# drop rows with NAs in both columns\n",
    "df.dropna(subset = [\"original_language\", \"popularity\"], inplace = True)"
   ]
  },
  {
   "cell_type": "markdown",
   "id": "treated-control",
   "metadata": {},
   "source": [
    "#### `production_company` vs `production_country` -  Web Scraping IMDb\n",
    "\n",
    "With the exception of `budget` and `revenue`, the remaining two columns with missing values are `production_company` and `production_country`.  Both columns have over 10% of their values missing and simply removing the rows from `df` would mean that we lose a lot of data.  Furthermore, keeping both columns in the DataFrame seems redundant given that both variables describe where the film was produced.\n",
    "\n",
    "When it comes between these variables, people generally tend to give more importance to the production _company_ rather than the country.  Production companies such as Paramount, MGM, Warner, and Disney are considered to be among the \"elite\" and people expect good films out of them!  Therefore, I'll keep `production_company` instead of `production_country`.  It'll be interesting to see and measure the effect these companies have on IMDb rating over other lesser-known production companies.\n",
    "\n",
    "After web scraping IMDb for the necessary information, I stored my results in `data/web_scrape/prod_companies.csv`.  The following is just adding the variable back to `df`:"
   ]
  },
  {
   "cell_type": "code",
   "execution_count": 44,
   "id": "tough-robertson",
   "metadata": {},
   "outputs": [
    {
     "data": {
      "text/html": [
       "<div>\n",
       "<style scoped>\n",
       "    .dataframe tbody tr th:only-of-type {\n",
       "        vertical-align: middle;\n",
       "    }\n",
       "\n",
       "    .dataframe tbody tr th {\n",
       "        vertical-align: top;\n",
       "    }\n",
       "\n",
       "    .dataframe thead th {\n",
       "        text-align: right;\n",
       "    }\n",
       "</style>\n",
       "<table border=\"1\" class=\"dataframe\">\n",
       "  <thead>\n",
       "    <tr style=\"text-align: right;\">\n",
       "      <th></th>\n",
       "      <th>is_Adult</th>\n",
       "      <th>belongs_to_franchise</th>\n",
       "      <th>budget</th>\n",
       "      <th>genre</th>\n",
       "      <th>id</th>\n",
       "      <th>imdb_id</th>\n",
       "      <th>original_language</th>\n",
       "      <th>popularity</th>\n",
       "      <th>release_date</th>\n",
       "      <th>revenue</th>\n",
       "      <th>runtime</th>\n",
       "      <th>title</th>\n",
       "      <th>averageRating</th>\n",
       "      <th>numVotes</th>\n",
       "      <th>production_company</th>\n",
       "    </tr>\n",
       "  </thead>\n",
       "  <tbody>\n",
       "    <tr>\n",
       "      <th>0</th>\n",
       "      <td>0</td>\n",
       "      <td>1</td>\n",
       "      <td>30000000.0</td>\n",
       "      <td>Animation</td>\n",
       "      <td>862</td>\n",
       "      <td>tt0114709</td>\n",
       "      <td>en</td>\n",
       "      <td>21.946943</td>\n",
       "      <td>1995-10-30</td>\n",
       "      <td>373554033.0</td>\n",
       "      <td>81.0</td>\n",
       "      <td>Toy Story</td>\n",
       "      <td>8.3</td>\n",
       "      <td>897995.0</td>\n",
       "      <td>Walt Disney Pictures</td>\n",
       "    </tr>\n",
       "    <tr>\n",
       "      <th>1</th>\n",
       "      <td>0</td>\n",
       "      <td>1</td>\n",
       "      <td>65000000.0</td>\n",
       "      <td>Adventure</td>\n",
       "      <td>8844</td>\n",
       "      <td>tt0113497</td>\n",
       "      <td>en</td>\n",
       "      <td>17.015539</td>\n",
       "      <td>1995-12-15</td>\n",
       "      <td>262797249.0</td>\n",
       "      <td>104.0</td>\n",
       "      <td>Jumanji</td>\n",
       "      <td>7.0</td>\n",
       "      <td>312530.0</td>\n",
       "      <td>TriStar Pictures</td>\n",
       "    </tr>\n",
       "    <tr>\n",
       "      <th>2</th>\n",
       "      <td>0</td>\n",
       "      <td>1</td>\n",
       "      <td>NaN</td>\n",
       "      <td>Romance</td>\n",
       "      <td>15602</td>\n",
       "      <td>tt0113228</td>\n",
       "      <td>en</td>\n",
       "      <td>11.712900</td>\n",
       "      <td>1995-12-22</td>\n",
       "      <td>NaN</td>\n",
       "      <td>101.0</td>\n",
       "      <td>Grumpier Old Men</td>\n",
       "      <td>6.7</td>\n",
       "      <td>24475.0</td>\n",
       "      <td>Lancaster Gate</td>\n",
       "    </tr>\n",
       "    <tr>\n",
       "      <th>3</th>\n",
       "      <td>0</td>\n",
       "      <td>0</td>\n",
       "      <td>16000000.0</td>\n",
       "      <td>Comedy</td>\n",
       "      <td>31357</td>\n",
       "      <td>tt0114885</td>\n",
       "      <td>en</td>\n",
       "      <td>3.859495</td>\n",
       "      <td>1995-12-22</td>\n",
       "      <td>81452156.0</td>\n",
       "      <td>127.0</td>\n",
       "      <td>Waiting to Exhale</td>\n",
       "      <td>6.0</td>\n",
       "      <td>9701.0</td>\n",
       "      <td>Twentieth Century Fox</td>\n",
       "    </tr>\n",
       "    <tr>\n",
       "      <th>4</th>\n",
       "      <td>0</td>\n",
       "      <td>1</td>\n",
       "      <td>NaN</td>\n",
       "      <td>Comedy</td>\n",
       "      <td>11862</td>\n",
       "      <td>tt0113041</td>\n",
       "      <td>en</td>\n",
       "      <td>8.387519</td>\n",
       "      <td>1995-02-10</td>\n",
       "      <td>76578911.0</td>\n",
       "      <td>106.0</td>\n",
       "      <td>Father of the Bride Part II</td>\n",
       "      <td>6.1</td>\n",
       "      <td>34926.0</td>\n",
       "      <td>Sandollar Productions</td>\n",
       "    </tr>\n",
       "  </tbody>\n",
       "</table>\n",
       "</div>"
      ],
      "text/plain": [
       "   is_Adult  belongs_to_franchise      budget      genre     id    imdb_id  \\\n",
       "0         0                     1  30000000.0  Animation    862  tt0114709   \n",
       "1         0                     1  65000000.0  Adventure   8844  tt0113497   \n",
       "2         0                     1         NaN    Romance  15602  tt0113228   \n",
       "3         0                     0  16000000.0     Comedy  31357  tt0114885   \n",
       "4         0                     1         NaN     Comedy  11862  tt0113041   \n",
       "\n",
       "  original_language  popularity release_date      revenue  runtime  \\\n",
       "0                en   21.946943   1995-10-30  373554033.0     81.0   \n",
       "1                en   17.015539   1995-12-15  262797249.0    104.0   \n",
       "2                en   11.712900   1995-12-22          NaN    101.0   \n",
       "3                en    3.859495   1995-12-22   81452156.0    127.0   \n",
       "4                en    8.387519   1995-02-10   76578911.0    106.0   \n",
       "\n",
       "                         title  averageRating  numVotes     production_company  \n",
       "0                    Toy Story            8.3  897995.0   Walt Disney Pictures  \n",
       "1                      Jumanji            7.0  312530.0       TriStar Pictures  \n",
       "2             Grumpier Old Men            6.7   24475.0         Lancaster Gate  \n",
       "3            Waiting to Exhale            6.0    9701.0  Twentieth Century Fox  \n",
       "4  Father of the Bride Part II            6.1   34926.0  Sandollar Productions  "
      ]
     },
     "execution_count": 44,
     "metadata": {},
     "output_type": "execute_result"
    }
   ],
   "source": [
    "# drop both columns - will use data from prod_companies.csv instead\n",
    "df.drop([\"production_company\", \"production_country\"], axis = 1, inplace = True)\n",
    "\n",
    "# read in web-scraped data\n",
    "prod_companies = pd.read_csv(\"data/web_scrape/prod_companies.csv\")\n",
    "\n",
    "df = pd.merge(df, prod_companies, how = \"left\", on = \"imdb_id\")\n",
    "# preview of DataFrame\n",
    "df.head()"
   ]
  },
  {
   "cell_type": "markdown",
   "id": "brown-whole",
   "metadata": {},
   "source": [
    "Let's check how many missing values we have in this column now:"
   ]
  },
  {
   "cell_type": "code",
   "execution_count": 45,
   "id": "legendary-plate",
   "metadata": {},
   "outputs": [
    {
     "data": {
      "text/plain": [
       "0.027452732705895495"
      ]
     },
     "execution_count": 45,
     "metadata": {},
     "output_type": "execute_result"
    }
   ],
   "source": [
    "# ratio of missing values in new `production_company`\n",
    "df[\"production_company\"].isna().sum() / len(df)"
   ]
  },
  {
   "cell_type": "markdown",
   "id": "solar-nurse",
   "metadata": {},
   "source": [
    "Web-scraping to the rescue - as was the case with `belongs_to_collection` we went from having a significant amount of missing data (21.9%) to only 2.7%!\n",
    "\n",
    "We'll get rid of the rows with missing values in this column:"
   ]
  },
  {
   "cell_type": "code",
   "execution_count": 46,
   "id": "medium-phoenix",
   "metadata": {},
   "outputs": [],
   "source": [
    "# drop rows with missing values\n",
    "df = df.dropna(subset = [\"production_company\"])"
   ]
  },
  {
   "cell_type": "markdown",
   "id": "engaging-guidance",
   "metadata": {},
   "source": [
    "#### `budget` and `revenue`\n",
    "\n",
    "Let's take a look at the percent of missing values in these columns once again:"
   ]
  },
  {
   "cell_type": "code",
   "execution_count": 47,
   "id": "grand-credit",
   "metadata": {},
   "outputs": [
    {
     "data": {
      "text/plain": [
       "budget     0.772484\n",
       "revenue    0.799966\n",
       "dtype: float64"
      ]
     },
     "execution_count": 47,
     "metadata": {},
     "output_type": "execute_result"
    }
   ],
   "source": [
    "# ratio of missing values per column\n",
    "df[[\"budget\", \"revenue\"]].isna().sum() / len(df)"
   ]
  },
  {
   "cell_type": "markdown",
   "id": "driving-connectivity",
   "metadata": {},
   "source": [
    "Unfortunately these features have a significant amount of missing data.  I tried looking up information on `budget` and `revenue` but despite my web scraping efforts, I still came up with a lot of missing values for each.  **However**, both variables could have a lot of predictive power and be useful in predicting IMDb ratings (i.e., a film with a big budget is expected to do well in the theatres, a film that did well in the box office is expected to have a high IMDb rating).  Therefore, I'll drop these features from the DataFrame _for now_, but I'll create a new DataFrame, `df_budget`, that *does* have `budget` and `revenue` data.  I'll save this DataFrame at the end of this notebook and use it later to see the effect these variable have on prediction:"
   ]
  },
  {
   "cell_type": "code",
   "execution_count": 48,
   "id": "interstate-convenience",
   "metadata": {},
   "outputs": [],
   "source": [
    "# create a new DataFrame with `budget` and `revenue` values\n",
    "df_budget = df.dropna(subset = [\"budget\", \"revenue\"])\n",
    "# reset index\n",
    "df_budget.reset_index(drop = True, inplace = True)\n",
    "# drop variables from original DataFrame\n",
    "df = df.drop([\"budget\", \"revenue\"], axis = 1)"
   ]
  },
  {
   "cell_type": "markdown",
   "id": "minimal-determination",
   "metadata": {},
   "source": [
    "### Adding a New Feature - Certification\n",
    "\n",
    "During our previous cleaning steps, several features were dropped entirely from `df`.  Although some features were completely unnecessary (`poster_path`, `video`, etc.), others (`budget`, `revenue`) could've added some value and predictive power to our models.  Before advancing any further, I thought it'd be a good idea to _add_ a feature to `df` that wasn't there originally.\n",
    "\n",
    "Aside from the runtime, language, and genre, a common characteristic of a film is its rating/certification!  Films that are rated G or PG are more geared towards kids and families whereas R-rated films tend to be more serious and attract an older audience.  This could also have an effect on the IMDb rating of the film!\n",
    "\n",
    "That being said, I used `movie_scraping.py` again to extract the certification from IMDb for each film in `df` and stored the results in `data/web_scrape/cert.csv`:"
   ]
  },
  {
   "cell_type": "code",
   "execution_count": 49,
   "id": "pediatric-first",
   "metadata": {},
   "outputs": [
    {
     "data": {
      "text/html": [
       "<div>\n",
       "<style scoped>\n",
       "    .dataframe tbody tr th:only-of-type {\n",
       "        vertical-align: middle;\n",
       "    }\n",
       "\n",
       "    .dataframe tbody tr th {\n",
       "        vertical-align: top;\n",
       "    }\n",
       "\n",
       "    .dataframe thead th {\n",
       "        text-align: right;\n",
       "    }\n",
       "</style>\n",
       "<table border=\"1\" class=\"dataframe\">\n",
       "  <thead>\n",
       "    <tr style=\"text-align: right;\">\n",
       "      <th></th>\n",
       "      <th>is_Adult</th>\n",
       "      <th>belongs_to_franchise</th>\n",
       "      <th>genre</th>\n",
       "      <th>id</th>\n",
       "      <th>imdb_id</th>\n",
       "      <th>original_language</th>\n",
       "      <th>popularity</th>\n",
       "      <th>release_date</th>\n",
       "      <th>runtime</th>\n",
       "      <th>title</th>\n",
       "      <th>averageRating</th>\n",
       "      <th>numVotes</th>\n",
       "      <th>production_company</th>\n",
       "      <th>cert</th>\n",
       "    </tr>\n",
       "  </thead>\n",
       "  <tbody>\n",
       "    <tr>\n",
       "      <th>0</th>\n",
       "      <td>0</td>\n",
       "      <td>1</td>\n",
       "      <td>Animation</td>\n",
       "      <td>862</td>\n",
       "      <td>tt0114709</td>\n",
       "      <td>en</td>\n",
       "      <td>21.946943</td>\n",
       "      <td>1995-10-30</td>\n",
       "      <td>81.0</td>\n",
       "      <td>Toy Story</td>\n",
       "      <td>8.3</td>\n",
       "      <td>897995.0</td>\n",
       "      <td>Walt Disney Pictures</td>\n",
       "      <td>G</td>\n",
       "    </tr>\n",
       "    <tr>\n",
       "      <th>1</th>\n",
       "      <td>0</td>\n",
       "      <td>1</td>\n",
       "      <td>Adventure</td>\n",
       "      <td>8844</td>\n",
       "      <td>tt0113497</td>\n",
       "      <td>en</td>\n",
       "      <td>17.015539</td>\n",
       "      <td>1995-12-15</td>\n",
       "      <td>104.0</td>\n",
       "      <td>Jumanji</td>\n",
       "      <td>7.0</td>\n",
       "      <td>312530.0</td>\n",
       "      <td>TriStar Pictures</td>\n",
       "      <td>PG</td>\n",
       "    </tr>\n",
       "    <tr>\n",
       "      <th>2</th>\n",
       "      <td>0</td>\n",
       "      <td>1</td>\n",
       "      <td>Romance</td>\n",
       "      <td>15602</td>\n",
       "      <td>tt0113228</td>\n",
       "      <td>en</td>\n",
       "      <td>11.712900</td>\n",
       "      <td>1995-12-22</td>\n",
       "      <td>101.0</td>\n",
       "      <td>Grumpier Old Men</td>\n",
       "      <td>6.7</td>\n",
       "      <td>24475.0</td>\n",
       "      <td>Lancaster Gate</td>\n",
       "      <td>PG-13</td>\n",
       "    </tr>\n",
       "    <tr>\n",
       "      <th>3</th>\n",
       "      <td>0</td>\n",
       "      <td>0</td>\n",
       "      <td>Comedy</td>\n",
       "      <td>31357</td>\n",
       "      <td>tt0114885</td>\n",
       "      <td>en</td>\n",
       "      <td>3.859495</td>\n",
       "      <td>1995-12-22</td>\n",
       "      <td>127.0</td>\n",
       "      <td>Waiting to Exhale</td>\n",
       "      <td>6.0</td>\n",
       "      <td>9701.0</td>\n",
       "      <td>Twentieth Century Fox</td>\n",
       "      <td>R</td>\n",
       "    </tr>\n",
       "    <tr>\n",
       "      <th>4</th>\n",
       "      <td>0</td>\n",
       "      <td>1</td>\n",
       "      <td>Comedy</td>\n",
       "      <td>11862</td>\n",
       "      <td>tt0113041</td>\n",
       "      <td>en</td>\n",
       "      <td>8.387519</td>\n",
       "      <td>1995-02-10</td>\n",
       "      <td>106.0</td>\n",
       "      <td>Father of the Bride Part II</td>\n",
       "      <td>6.1</td>\n",
       "      <td>34926.0</td>\n",
       "      <td>Sandollar Productions</td>\n",
       "      <td>PG</td>\n",
       "    </tr>\n",
       "  </tbody>\n",
       "</table>\n",
       "</div>"
      ],
      "text/plain": [
       "   is_Adult  belongs_to_franchise      genre     id    imdb_id  \\\n",
       "0         0                     1  Animation    862  tt0114709   \n",
       "1         0                     1  Adventure   8844  tt0113497   \n",
       "2         0                     1    Romance  15602  tt0113228   \n",
       "3         0                     0     Comedy  31357  tt0114885   \n",
       "4         0                     1     Comedy  11862  tt0113041   \n",
       "\n",
       "  original_language  popularity release_date  runtime  \\\n",
       "0                en   21.946943   1995-10-30     81.0   \n",
       "1                en   17.015539   1995-12-15    104.0   \n",
       "2                en   11.712900   1995-12-22    101.0   \n",
       "3                en    3.859495   1995-12-22    127.0   \n",
       "4                en    8.387519   1995-02-10    106.0   \n",
       "\n",
       "                         title  averageRating  numVotes  \\\n",
       "0                    Toy Story            8.3  897995.0   \n",
       "1                      Jumanji            7.0  312530.0   \n",
       "2             Grumpier Old Men            6.7   24475.0   \n",
       "3            Waiting to Exhale            6.0    9701.0   \n",
       "4  Father of the Bride Part II            6.1   34926.0   \n",
       "\n",
       "      production_company   cert  \n",
       "0   Walt Disney Pictures      G  \n",
       "1       TriStar Pictures     PG  \n",
       "2         Lancaster Gate  PG-13  \n",
       "3  Twentieth Century Fox      R  \n",
       "4  Sandollar Productions     PG  "
      ]
     },
     "execution_count": 49,
     "metadata": {},
     "output_type": "execute_result"
    }
   ],
   "source": [
    "# read in web-scraped certs from IMDb\n",
    "cert = pd.read_csv(\"data/web_scrape/cert.csv\")\n",
    "\n",
    "# add new variable to both DataFrames\n",
    "df = pd.merge(df, cert, how = \"left\", on = \"imdb_id\")\n",
    "df_budget = pd.merge(df_budget, cert, how = \"left\", on = \"imdb_id\")\n",
    "\n",
    "# preview df DataFrame\n",
    "df.head()"
   ]
  },
  {
   "cell_type": "markdown",
   "id": "champion-modem",
   "metadata": {},
   "source": [
    "Great, we were able to add this new variable to both DataFrames!  Let's quickly check the percent of missing values in `cert` for both our DataFrames:"
   ]
  },
  {
   "cell_type": "code",
   "execution_count": 50,
   "id": "novel-ozone",
   "metadata": {},
   "outputs": [
    {
     "name": "stdout",
     "output_type": "stream",
     "text": [
      "Percent of missing values in `cert` for df: 36.35\n",
      "Percent of missing values in `cert` for df_budget: 5.24\n"
     ]
    }
   ],
   "source": [
    "# percent of missing values in `cert` for both DataFrames\n",
    "pct_df = round((df[\"cert\"].isna().sum() / len(df))*100, 2)\n",
    "print(\"Percent of missing values in `cert` for df:\", pct_df)\n",
    "pct_df_budget = round((df_budget[\"cert\"].isna().sum() / len(df_budget))*100, 2)\n",
    "print(\"Percent of missing values in `cert` for df_budget:\", pct_df_budget)"
   ]
  },
  {
   "cell_type": "markdown",
   "id": "external-rogers",
   "metadata": {},
   "source": [
    "Unfortunately, `cert` did brought a lot of missing values (36%) for `df`.  *However* only 5% of the data in `df_budget` is missing!  Given that `df_budget` already has significantly less rows than `df`, I'd rather not lose more rows (even if it's 5%).  Therefore, I'll replace these `NAs` with weighted random ratings from `cert`.  While this is possible to do in a small amount of data, this strategy is not advisable for `df` given that **36%** of the data is missing:"
   ]
  },
  {
   "cell_type": "code",
   "execution_count": 51,
   "id": "circular-sector",
   "metadata": {},
   "outputs": [
    {
     "name": "stdout",
     "output_type": "stream",
     "text": [
      "Number of missing values per column in df:\n",
      " is_Adult                0\n",
      "belongs_to_franchise    0\n",
      "genre                   0\n",
      "id                      0\n",
      "imdb_id                 0\n",
      "original_language       0\n",
      "popularity              0\n",
      "release_date            0\n",
      "runtime                 0\n",
      "title                   0\n",
      "averageRating           0\n",
      "numVotes                0\n",
      "production_company      0\n",
      "dtype: int64\n",
      "Number of missing values per column in df_budget:\n",
      " is_Adult                0\n",
      "belongs_to_franchise    0\n",
      "budget                  0\n",
      "genre                   0\n",
      "id                      0\n",
      "imdb_id                 0\n",
      "original_language       0\n",
      "popularity              0\n",
      "release_date            0\n",
      "revenue                 0\n",
      "runtime                 0\n",
      "title                   0\n",
      "averageRating           0\n",
      "numVotes                0\n",
      "production_company      0\n",
      "cert                    0\n",
      "dtype: int64\n"
     ]
    }
   ],
   "source": [
    "# possible certs to fill NAs\n",
    "unique_certs = cert[\"cert\"].dropna().unique()\n",
    "# number of NAs to fill\n",
    "num_NAs = df_budget[\"cert\"].isna().sum()\n",
    "# weights associated with each cert\n",
    "probs = cert[\"cert\"].dropna().value_counts(normalize = True).sort_values(ascending = True)\n",
    "# get a random list of certs with weights\n",
    "random_certs = np.random.choice(unique_certs, size = num_NAs, p = probs)\n",
    "i = df_budget[\"cert\"].isna().index[df_budget[\"cert\"].isna()]\n",
    "# fill NAs in `df_budget`\n",
    "df_budget.fillna({\"cert\": pd.Series(random_certs, index = i)}, inplace = True)\n",
    "# drop `cert` from df\n",
    "df = df.drop(\"cert\", axis = 1)\n",
    "\n",
    "print(\"Number of missing values per column in df:\\n\", df.isna().sum())\n",
    "print(\"Number of missing values per column in df_budget:\\n\", df_budget.isna().sum())"
   ]
  },
  {
   "cell_type": "markdown",
   "id": "turkish-rwanda",
   "metadata": {},
   "source": [
    "## Reorganising our DataFrame\n",
    "\n",
    "All the cleaning and data preparation steps taken above have messed up the proper organisation of columns in `df` and `df_budget`.  *Even though this is not necessary by any means*, I'll reorganise the columns of both DataFrames to something that makes a little bit more sense:"
   ]
  },
  {
   "cell_type": "code",
   "execution_count": 52,
   "id": "precise-africa",
   "metadata": {},
   "outputs": [
    {
     "name": "stdout",
     "output_type": "stream",
     "text": [
      "Index(['is_Adult', 'belongs_to_franchise', 'genre', 'id', 'imdb_id',\n",
      "       'original_language', 'popularity', 'release_date', 'runtime', 'title',\n",
      "       'averageRating', 'numVotes', 'production_company'],\n",
      "      dtype='object')\n",
      "Index(['is_Adult', 'belongs_to_franchise', 'budget', 'genre', 'id', 'imdb_id',\n",
      "       'original_language', 'popularity', 'release_date', 'revenue', 'runtime',\n",
      "       'title', 'averageRating', 'numVotes', 'production_company', 'cert'],\n",
      "      dtype='object')\n"
     ]
    }
   ],
   "source": [
    "# current column organisation in `df` and `df_budget`\n",
    "print(df.columns)\n",
    "print(df_budget.columns)"
   ]
  },
  {
   "cell_type": "code",
   "execution_count": 53,
   "id": "arbitrary-arthritis",
   "metadata": {},
   "outputs": [
    {
     "data": {
      "text/html": [
       "<div>\n",
       "<style scoped>\n",
       "    .dataframe tbody tr th:only-of-type {\n",
       "        vertical-align: middle;\n",
       "    }\n",
       "\n",
       "    .dataframe tbody tr th {\n",
       "        vertical-align: top;\n",
       "    }\n",
       "\n",
       "    .dataframe thead th {\n",
       "        text-align: right;\n",
       "    }\n",
       "</style>\n",
       "<table border=\"1\" class=\"dataframe\">\n",
       "  <thead>\n",
       "    <tr style=\"text-align: right;\">\n",
       "      <th></th>\n",
       "      <th>imdb_id</th>\n",
       "      <th>id</th>\n",
       "      <th>title</th>\n",
       "      <th>original_language</th>\n",
       "      <th>genre</th>\n",
       "      <th>belongs_to_franchise</th>\n",
       "      <th>production_company</th>\n",
       "      <th>release_date</th>\n",
       "      <th>runtime</th>\n",
       "      <th>popularity</th>\n",
       "      <th>is_Adult</th>\n",
       "      <th>numVotes</th>\n",
       "      <th>averageRating</th>\n",
       "    </tr>\n",
       "  </thead>\n",
       "  <tbody>\n",
       "    <tr>\n",
       "      <th>0</th>\n",
       "      <td>tt0114709</td>\n",
       "      <td>862</td>\n",
       "      <td>Toy Story</td>\n",
       "      <td>en</td>\n",
       "      <td>Animation</td>\n",
       "      <td>1</td>\n",
       "      <td>Walt Disney Pictures</td>\n",
       "      <td>1995-10-30</td>\n",
       "      <td>81.0</td>\n",
       "      <td>21.946943</td>\n",
       "      <td>0</td>\n",
       "      <td>897995.0</td>\n",
       "      <td>8.3</td>\n",
       "    </tr>\n",
       "    <tr>\n",
       "      <th>1</th>\n",
       "      <td>tt0113497</td>\n",
       "      <td>8844</td>\n",
       "      <td>Jumanji</td>\n",
       "      <td>en</td>\n",
       "      <td>Adventure</td>\n",
       "      <td>1</td>\n",
       "      <td>TriStar Pictures</td>\n",
       "      <td>1995-12-15</td>\n",
       "      <td>104.0</td>\n",
       "      <td>17.015539</td>\n",
       "      <td>0</td>\n",
       "      <td>312530.0</td>\n",
       "      <td>7.0</td>\n",
       "    </tr>\n",
       "    <tr>\n",
       "      <th>2</th>\n",
       "      <td>tt0113228</td>\n",
       "      <td>15602</td>\n",
       "      <td>Grumpier Old Men</td>\n",
       "      <td>en</td>\n",
       "      <td>Romance</td>\n",
       "      <td>1</td>\n",
       "      <td>Lancaster Gate</td>\n",
       "      <td>1995-12-22</td>\n",
       "      <td>101.0</td>\n",
       "      <td>11.712900</td>\n",
       "      <td>0</td>\n",
       "      <td>24475.0</td>\n",
       "      <td>6.7</td>\n",
       "    </tr>\n",
       "    <tr>\n",
       "      <th>3</th>\n",
       "      <td>tt0114885</td>\n",
       "      <td>31357</td>\n",
       "      <td>Waiting to Exhale</td>\n",
       "      <td>en</td>\n",
       "      <td>Comedy</td>\n",
       "      <td>0</td>\n",
       "      <td>Twentieth Century Fox</td>\n",
       "      <td>1995-12-22</td>\n",
       "      <td>127.0</td>\n",
       "      <td>3.859495</td>\n",
       "      <td>0</td>\n",
       "      <td>9701.0</td>\n",
       "      <td>6.0</td>\n",
       "    </tr>\n",
       "    <tr>\n",
       "      <th>4</th>\n",
       "      <td>tt0113041</td>\n",
       "      <td>11862</td>\n",
       "      <td>Father of the Bride Part II</td>\n",
       "      <td>en</td>\n",
       "      <td>Comedy</td>\n",
       "      <td>1</td>\n",
       "      <td>Sandollar Productions</td>\n",
       "      <td>1995-02-10</td>\n",
       "      <td>106.0</td>\n",
       "      <td>8.387519</td>\n",
       "      <td>0</td>\n",
       "      <td>34926.0</td>\n",
       "      <td>6.1</td>\n",
       "    </tr>\n",
       "  </tbody>\n",
       "</table>\n",
       "</div>"
      ],
      "text/plain": [
       "     imdb_id     id                        title original_language      genre  \\\n",
       "0  tt0114709    862                    Toy Story                en  Animation   \n",
       "1  tt0113497   8844                      Jumanji                en  Adventure   \n",
       "2  tt0113228  15602             Grumpier Old Men                en    Romance   \n",
       "3  tt0114885  31357            Waiting to Exhale                en     Comedy   \n",
       "4  tt0113041  11862  Father of the Bride Part II                en     Comedy   \n",
       "\n",
       "   belongs_to_franchise     production_company release_date  runtime  \\\n",
       "0                     1   Walt Disney Pictures   1995-10-30     81.0   \n",
       "1                     1       TriStar Pictures   1995-12-15    104.0   \n",
       "2                     1         Lancaster Gate   1995-12-22    101.0   \n",
       "3                     0  Twentieth Century Fox   1995-12-22    127.0   \n",
       "4                     1  Sandollar Productions   1995-02-10    106.0   \n",
       "\n",
       "   popularity  is_Adult  numVotes  averageRating  \n",
       "0   21.946943         0  897995.0            8.3  \n",
       "1   17.015539         0  312530.0            7.0  \n",
       "2   11.712900         0   24475.0            6.7  \n",
       "3    3.859495         0    9701.0            6.0  \n",
       "4    8.387519         0   34926.0            6.1  "
      ]
     },
     "execution_count": 53,
     "metadata": {},
     "output_type": "execute_result"
    }
   ],
   "source": [
    "# reorganising columns\n",
    "df = df[[\"imdb_id\", \"id\", \"title\", \"original_language\", \"genre\", \n",
    "         \"belongs_to_franchise\", \"production_company\", \"release_date\", \n",
    "         \"runtime\", \"popularity\", \"is_Adult\", \"numVotes\", \"averageRating\"]]\n",
    "df_budget = df_budget[[\"imdb_id\", \"id\", \"title\", \"budget\", \"revenue\",\n",
    "                      \"original_language\", \"genre\", \"belongs_to_franchise\",\n",
    "                      \"production_company\", \"release_date\", \"cert\", \"runtime\",\n",
    "                      \"popularity\", \"is_Adult\", \"numVotes\", \"averageRating\"]]\n",
    "# preview of `df`\n",
    "df.head()"
   ]
  },
  {
   "cell_type": "code",
   "execution_count": 54,
   "id": "entire-function",
   "metadata": {},
   "outputs": [
    {
     "data": {
      "text/html": [
       "<div>\n",
       "<style scoped>\n",
       "    .dataframe tbody tr th:only-of-type {\n",
       "        vertical-align: middle;\n",
       "    }\n",
       "\n",
       "    .dataframe tbody tr th {\n",
       "        vertical-align: top;\n",
       "    }\n",
       "\n",
       "    .dataframe thead th {\n",
       "        text-align: right;\n",
       "    }\n",
       "</style>\n",
       "<table border=\"1\" class=\"dataframe\">\n",
       "  <thead>\n",
       "    <tr style=\"text-align: right;\">\n",
       "      <th></th>\n",
       "      <th>imdb_id</th>\n",
       "      <th>id</th>\n",
       "      <th>title</th>\n",
       "      <th>budget</th>\n",
       "      <th>revenue</th>\n",
       "      <th>original_language</th>\n",
       "      <th>genre</th>\n",
       "      <th>belongs_to_franchise</th>\n",
       "      <th>production_company</th>\n",
       "      <th>release_date</th>\n",
       "      <th>cert</th>\n",
       "      <th>runtime</th>\n",
       "      <th>popularity</th>\n",
       "      <th>is_Adult</th>\n",
       "      <th>numVotes</th>\n",
       "      <th>averageRating</th>\n",
       "    </tr>\n",
       "  </thead>\n",
       "  <tbody>\n",
       "    <tr>\n",
       "      <th>0</th>\n",
       "      <td>tt0114709</td>\n",
       "      <td>862</td>\n",
       "      <td>Toy Story</td>\n",
       "      <td>30000000.0</td>\n",
       "      <td>373554033.0</td>\n",
       "      <td>en</td>\n",
       "      <td>Animation</td>\n",
       "      <td>1</td>\n",
       "      <td>Walt Disney Pictures</td>\n",
       "      <td>1995-10-30</td>\n",
       "      <td>G</td>\n",
       "      <td>81.0</td>\n",
       "      <td>21.946943</td>\n",
       "      <td>0</td>\n",
       "      <td>897995.0</td>\n",
       "      <td>8.3</td>\n",
       "    </tr>\n",
       "    <tr>\n",
       "      <th>1</th>\n",
       "      <td>tt0113497</td>\n",
       "      <td>8844</td>\n",
       "      <td>Jumanji</td>\n",
       "      <td>65000000.0</td>\n",
       "      <td>262797249.0</td>\n",
       "      <td>en</td>\n",
       "      <td>Adventure</td>\n",
       "      <td>1</td>\n",
       "      <td>TriStar Pictures</td>\n",
       "      <td>1995-12-15</td>\n",
       "      <td>PG</td>\n",
       "      <td>104.0</td>\n",
       "      <td>17.015539</td>\n",
       "      <td>0</td>\n",
       "      <td>312530.0</td>\n",
       "      <td>7.0</td>\n",
       "    </tr>\n",
       "    <tr>\n",
       "      <th>2</th>\n",
       "      <td>tt0114885</td>\n",
       "      <td>31357</td>\n",
       "      <td>Waiting to Exhale</td>\n",
       "      <td>16000000.0</td>\n",
       "      <td>81452156.0</td>\n",
       "      <td>en</td>\n",
       "      <td>Comedy</td>\n",
       "      <td>0</td>\n",
       "      <td>Twentieth Century Fox</td>\n",
       "      <td>1995-12-22</td>\n",
       "      <td>R</td>\n",
       "      <td>127.0</td>\n",
       "      <td>3.859495</td>\n",
       "      <td>0</td>\n",
       "      <td>9701.0</td>\n",
       "      <td>6.0</td>\n",
       "    </tr>\n",
       "    <tr>\n",
       "      <th>3</th>\n",
       "      <td>tt0114576</td>\n",
       "      <td>9091</td>\n",
       "      <td>Sudden Death</td>\n",
       "      <td>35000000.0</td>\n",
       "      <td>64350171.0</td>\n",
       "      <td>en</td>\n",
       "      <td>Action</td>\n",
       "      <td>1</td>\n",
       "      <td>Universal Pictures</td>\n",
       "      <td>1995-12-22</td>\n",
       "      <td>R</td>\n",
       "      <td>106.0</td>\n",
       "      <td>5.231580</td>\n",
       "      <td>0</td>\n",
       "      <td>32516.0</td>\n",
       "      <td>5.8</td>\n",
       "    </tr>\n",
       "    <tr>\n",
       "      <th>4</th>\n",
       "      <td>tt0113189</td>\n",
       "      <td>710</td>\n",
       "      <td>GoldenEye</td>\n",
       "      <td>58000000.0</td>\n",
       "      <td>352194034.0</td>\n",
       "      <td>en</td>\n",
       "      <td>Adventure</td>\n",
       "      <td>1</td>\n",
       "      <td>Eon Productions</td>\n",
       "      <td>1995-11-16</td>\n",
       "      <td>PG-13</td>\n",
       "      <td>130.0</td>\n",
       "      <td>14.686036</td>\n",
       "      <td>0</td>\n",
       "      <td>240533.0</td>\n",
       "      <td>7.2</td>\n",
       "    </tr>\n",
       "  </tbody>\n",
       "</table>\n",
       "</div>"
      ],
      "text/plain": [
       "     imdb_id     id              title      budget      revenue  \\\n",
       "0  tt0114709    862          Toy Story  30000000.0  373554033.0   \n",
       "1  tt0113497   8844            Jumanji  65000000.0  262797249.0   \n",
       "2  tt0114885  31357  Waiting to Exhale  16000000.0   81452156.0   \n",
       "3  tt0114576   9091       Sudden Death  35000000.0   64350171.0   \n",
       "4  tt0113189    710          GoldenEye  58000000.0  352194034.0   \n",
       "\n",
       "  original_language      genre  belongs_to_franchise     production_company  \\\n",
       "0                en  Animation                     1   Walt Disney Pictures   \n",
       "1                en  Adventure                     1       TriStar Pictures   \n",
       "2                en     Comedy                     0  Twentieth Century Fox   \n",
       "3                en     Action                     1     Universal Pictures   \n",
       "4                en  Adventure                     1        Eon Productions   \n",
       "\n",
       "  release_date   cert  runtime  popularity  is_Adult  numVotes  averageRating  \n",
       "0   1995-10-30      G     81.0   21.946943         0  897995.0            8.3  \n",
       "1   1995-12-15     PG    104.0   17.015539         0  312530.0            7.0  \n",
       "2   1995-12-22      R    127.0    3.859495         0    9701.0            6.0  \n",
       "3   1995-12-22      R    106.0    5.231580         0   32516.0            5.8  \n",
       "4   1995-11-16  PG-13    130.0   14.686036         0  240533.0            7.2  "
      ]
     },
     "execution_count": 54,
     "metadata": {},
     "output_type": "execute_result"
    }
   ],
   "source": [
    "# preview df_budget\n",
    "df_budget.head()"
   ]
  },
  {
   "cell_type": "markdown",
   "id": "seventh-section",
   "metadata": {},
   "source": [
    "## To be Continued...\n",
    "\n",
    "![Han](https://media.giphy.com/media/3ornjSL2sBcPflIDiU/giphy.gif)"
   ]
  },
  {
   "cell_type": "code",
   "execution_count": 55,
   "id": "executed-praise",
   "metadata": {},
   "outputs": [
    {
     "name": "stdout",
     "output_type": "stream",
     "text": [
      "(34824, 13)\n",
      "(5053, 16)\n"
     ]
    }
   ],
   "source": [
    "# save both DataFrames to csvs for use in later notebooks\n",
    "df.reset_index(drop = True, inplace = True)\n",
    "df_budget = df_budget.reset_index(drop = True)\n",
    "# final dimensions of df\n",
    "print(df.shape)\n",
    "# final dimensions of df_budget\n",
    "print(df_budget.shape)\n",
    "\n",
    "df.to_csv(\"data/df.csv\", index = False)\n",
    "df_budget.to_csv(\"data/df_budget.csv\", index = False)"
   ]
  },
  {
   "cell_type": "markdown",
   "id": "welsh-grain",
   "metadata": {},
   "source": [
    "Now that we've performed our initial data cleaning of `df` *and* `df_budget`, it's time to see how these changes affected the nature of our variables.  To continue on with this project, please check out the next [notebook](EDA_2.ipynb)."
   ]
  },
  {
   "cell_type": "code",
   "execution_count": null,
   "id": "sapphire-electron",
   "metadata": {},
   "outputs": [],
   "source": []
  }
 ],
 "metadata": {
  "kernelspec": {
   "display_name": "Python 3.9",
   "language": "python",
   "name": "python3"
  },
  "language_info": {
   "codemirror_mode": {
    "name": "ipython",
    "version": 3
   },
   "file_extension": ".py",
   "mimetype": "text/x-python",
   "name": "python",
   "nbconvert_exporter": "python",
   "pygments_lexer": "ipython3",
   "version": "3.9.2"
  }
 },
 "nbformat": 4,
 "nbformat_minor": 5
}
